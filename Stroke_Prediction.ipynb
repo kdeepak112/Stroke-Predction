{
  "nbformat": 4,
  "nbformat_minor": 0,
  "metadata": {
    "colab": {
      "name": "Stroke Prediction",
      "provenance": [],
      "collapsed_sections": []
    },
    "kernelspec": {
      "display_name": "Python 3",
      "name": "python3"
    }
  },
  "cells": [
    {
      "cell_type": "code",
      "metadata": {
        "id": "Uw7TuOA56tK_"
      },
      "source": [
        "import numpy as np\r\n",
        "import pandas as pd\r\n",
        "import seaborn as sns"
      ],
      "execution_count": null,
      "outputs": []
    },
    {
      "cell_type": "code",
      "metadata": {
        "id": "VlsJQTd56yVk"
      },
      "source": [
        "import tensorflow as tf\r\n",
        "from tensorflow.keras.models import Sequential\r\n",
        "from tensorflow.keras.layers import Dense, Activation,Dropout"
      ],
      "execution_count": null,
      "outputs": []
    },
    {
      "cell_type": "code",
      "metadata": {
        "id": "pFx8C5q77Wmb"
      },
      "source": [
        "df = pd.read_csv('stroke_data.csv')"
      ],
      "execution_count": null,
      "outputs": []
    },
    {
      "cell_type": "code",
      "metadata": {
        "id": "59hA9BeH7fJl"
      },
      "source": [
        "df.head()"
      ],
      "execution_count": null,
      "outputs": []
    },
    {
      "cell_type": "code",
      "metadata": {
        "id": "EYOMvL4E7hW-"
      },
      "source": [
        "from imblearn.combine import SMOTETomek"
      ],
      "execution_count": null,
      "outputs": []
    },
    {
      "cell_type": "code",
      "metadata": {
        "id": "egk7iklz8P-z"
      },
      "source": [
        "df.corr()['stroke']"
      ],
      "execution_count": null,
      "outputs": []
    },
    {
      "cell_type": "code",
      "metadata": {
        "id": "1MPVx-Um8pLc"
      },
      "source": [
        "df_encoded = pd.get_dummies(df.work_type)"
      ],
      "execution_count": null,
      "outputs": []
    },
    {
      "cell_type": "code",
      "metadata": {
        "id": "VZCO3vHR9ChS"
      },
      "source": [
        "df_encoded.shape"
      ],
      "execution_count": null,
      "outputs": []
    },
    {
      "cell_type": "code",
      "metadata": {
        "id": "8vEO_ZfQ8uey"
      },
      "source": [
        "smk = SMOTETomek(random_state = 42)\r\n"
      ],
      "execution_count": null,
      "outputs": []
    },
    {
      "cell_type": "code",
      "metadata": {
        "id": "zutLfIqsQHpv"
      },
      "source": [
        "df = pd.concat([df,df_encoded],axis=1)"
      ],
      "execution_count": null,
      "outputs": []
    },
    {
      "cell_type": "code",
      "metadata": {
        "id": "WZdhVQ_1P-2Y"
      },
      "source": [
        "df.Residence_type.unique()"
      ],
      "execution_count": null,
      "outputs": []
    },
    {
      "cell_type": "code",
      "metadata": {
        "id": "ck-g2zH0WRvy"
      },
      "source": [
        "df.drop('work_type',axis=1,inplace=True)"
      ],
      "execution_count": null,
      "outputs": []
    },
    {
      "cell_type": "code",
      "metadata": {
        "id": "uKM_mE3UWRzC"
      },
      "source": [
        "from sklearn.preprocessing import LabelEncoder \r\n",
        "  \r\n",
        "le = LabelEncoder() "
      ],
      "execution_count": null,
      "outputs": []
    },
    {
      "cell_type": "code",
      "metadata": {
        "id": "NEcKcaqiWR2s"
      },
      "source": [
        "df['gender'] = le.fit_transform(df['gender'])"
      ],
      "execution_count": null,
      "outputs": []
    },
    {
      "cell_type": "code",
      "metadata": {
        "id": "xZlxNKK-WR5H"
      },
      "source": [
        "df['ever_married'] = le.fit_transform(df['ever_married'])"
      ],
      "execution_count": null,
      "outputs": []
    },
    {
      "cell_type": "code",
      "metadata": {
        "id": "6YWe4OZ5YvrJ"
      },
      "source": [
        "df.head()"
      ],
      "execution_count": null,
      "outputs": []
    },
    {
      "cell_type": "code",
      "metadata": {
        "id": "GlEGikupY1BI"
      },
      "source": [
        "df['Residence_type'] = le.fit_transform(df['Residence_type'])"
      ],
      "execution_count": null,
      "outputs": []
    },
    {
      "cell_type": "code",
      "metadata": {
        "id": "lnTTKlp6ZDkT"
      },
      "source": [
        "df.head()"
      ],
      "execution_count": null,
      "outputs": []
    },
    {
      "cell_type": "code",
      "metadata": {
        "id": "MhUzkSuQZRdB"
      },
      "source": [
        "df.corr()['stroke']"
      ],
      "execution_count": null,
      "outputs": []
    },
    {
      "cell_type": "code",
      "metadata": {
        "id": "CkbDlptxZRgL"
      },
      "source": [
        "df.describe().transpose()"
      ],
      "execution_count": null,
      "outputs": []
    },
    {
      "cell_type": "code",
      "metadata": {
        "id": "19ezbwOOZRif"
      },
      "source": [
        "df.smoking_status.unique()"
      ],
      "execution_count": null,
      "outputs": []
    },
    {
      "cell_type": "code",
      "metadata": {
        "id": "j2nXDmekZRlT"
      },
      "source": [
        "df_smoking = pd.get_dummies(df.smoking_status)"
      ],
      "execution_count": null,
      "outputs": []
    },
    {
      "cell_type": "code",
      "metadata": {
        "id": "0fSRtgDlZRoA"
      },
      "source": [
        "df = pd.concat([df,df_smoking],axis=1)"
      ],
      "execution_count": null,
      "outputs": []
    },
    {
      "cell_type": "code",
      "metadata": {
        "id": "TrGDNROrZRqy"
      },
      "source": [
        "df.drop('smoking_status',axis=1,inplace=True)"
      ],
      "execution_count": null,
      "outputs": []
    },
    {
      "cell_type": "code",
      "metadata": {
        "id": "K4MWxaR1ZRtZ"
      },
      "source": [
        "df.head()"
      ],
      "execution_count": null,
      "outputs": []
    },
    {
      "cell_type": "code",
      "metadata": {
        "id": "V6D_Y4DJZRwH"
      },
      "source": [
        "df.describe().transpose()"
      ],
      "execution_count": null,
      "outputs": []
    },
    {
      "cell_type": "code",
      "metadata": {
        "id": "91u3WLoYZRzR"
      },
      "source": [
        "column_list = df.columns.tolist()\r\n",
        "column_list.remove('stroke')\r\n",
        "column_list"
      ],
      "execution_count": null,
      "outputs": []
    },
    {
      "cell_type": "code",
      "metadata": {
        "id": "XBjXMtI_cxG4"
      },
      "source": [
        "x = df[column_list]\r\n",
        "x"
      ],
      "execution_count": null,
      "outputs": []
    },
    {
      "cell_type": "code",
      "metadata": {
        "id": "9WNsCQHwcxJk"
      },
      "source": [
        "y = df['stroke']\r\n",
        "y"
      ],
      "execution_count": null,
      "outputs": []
    },
    {
      "cell_type": "code",
      "metadata": {
        "id": "W4QP0TVLcxMe"
      },
      "source": [
        ""
      ],
      "execution_count": null,
      "outputs": []
    },
    {
      "cell_type": "code",
      "metadata": {
        "id": "ACrwqANrCv6s"
      },
      "source": [
        "# Up Sampling"
      ],
      "execution_count": null,
      "outputs": []
    },
    {
      "cell_type": "code",
      "metadata": {
        "id": "r6EPtm1t-GlU"
      },
      "source": [
        "from imblearn.combine import SMOTETomek\r\n",
        "smk = SMOTETomek(random_state = 42)\r\n",
        "x_res,y_res = smk.fit_sample(x,y)"
      ],
      "execution_count": null,
      "outputs": []
    },
    {
      "cell_type": "code",
      "metadata": {
        "id": "40LBBmAW-dTt"
      },
      "source": [
        "x_res"
      ],
      "execution_count": null,
      "outputs": []
    },
    {
      "cell_type": "code",
      "metadata": {
        "id": "8VomLAaI-nY1"
      },
      "source": [
        "x_res = pd.DataFrame(x_res,columns=column_list)"
      ],
      "execution_count": null,
      "outputs": []
    },
    {
      "cell_type": "code",
      "metadata": {
        "id": "NgQADOo3AcWC"
      },
      "source": [
        "y_res = pd.DataFrame(y_res,columns=['stroke'])"
      ],
      "execution_count": null,
      "outputs": []
    },
    {
      "cell_type": "code",
      "metadata": {
        "id": "Ss54K0MGdbha"
      },
      "source": [
        "x_res"
      ],
      "execution_count": null,
      "outputs": []
    },
    {
      "cell_type": "code",
      "metadata": {
        "id": "ae2JYokzdbj-"
      },
      "source": [
        "y_res"
      ],
      "execution_count": null,
      "outputs": []
    },
    {
      "cell_type": "code",
      "metadata": {
        "id": "_WdrwrH--jCm"
      },
      "source": [
        "df_new = pd.concat([x_res,y_res],axis=1)"
      ],
      "execution_count": null,
      "outputs": []
    },
    {
      "cell_type": "code",
      "metadata": {
        "id": "J01YhlszCHs_"
      },
      "source": [
        "df_new.head()"
      ],
      "execution_count": null,
      "outputs": []
    },
    {
      "cell_type": "code",
      "metadata": {
        "id": "WjzxdzC3CMqS"
      },
      "source": [
        "sns.countplot(x='stroke',data=df_new)"
      ],
      "execution_count": null,
      "outputs": []
    },
    {
      "cell_type": "code",
      "metadata": {
        "id": "Owge2-QrEM0R"
      },
      "source": [
        "X = df_new.drop('stroke',axis=1).values\r\n",
        "y = df_new['stroke'].values"
      ],
      "execution_count": null,
      "outputs": []
    },
    {
      "cell_type": "code",
      "metadata": {
        "id": "bpnxyMepG4zd"
      },
      "source": [
        "\r\n",
        "from sklearn.model_selection import train_test_split"
      ],
      "execution_count": null,
      "outputs": []
    },
    {
      "cell_type": "code",
      "metadata": {
        "id": "I3itDswUHJP2"
      },
      "source": [
        "X_train, X_test, y_train, y_test = train_test_split(X,y,test_size=0.25,random_state=101)"
      ],
      "execution_count": null,
      "outputs": []
    },
    {
      "cell_type": "code",
      "metadata": {
        "id": "WHQeF6mMHsmW"
      },
      "source": [
        "from sklearn.preprocessing import MinMaxScaler\r\n",
        "scaler = MinMaxScaler()\r\n",
        "scaler.fit(X_train)\r\n",
        "X_train = scaler.transform(X_train)\r\n",
        "X_test = scaler.transform(X_test)"
      ],
      "execution_count": null,
      "outputs": []
    },
    {
      "cell_type": "code",
      "metadata": {
        "id": "ZbiOxB1hH_hI"
      },
      "source": [
        "model = Sequential()\r\n",
        "\r\n",
        "\r\n",
        "model.add(Dense(units=100,activation='relu'))\r\n",
        "\r\n",
        "model.add(Dense(units=50,activation='relu'))\r\n",
        "\r\n",
        "model.add(Dense(units=1,activation='sigmoid'))\r\n",
        "\r\n",
        "# For a binary classification problem\r\n",
        "model.compile(loss='binary_crossentropy', optimizer='adam')"
      ],
      "execution_count": null,
      "outputs": []
    },
    {
      "cell_type": "code",
      "metadata": {
        "colab": {
          "background_save": true,
          "base_uri": "https://localhost:8080/"
        },
        "id": "G0jTF6geIS8T",
        "outputId": "7d5fc925-9003-44cb-fa7b-fd245a623bfa"
      },
      "source": [
        "model.fit(x=X_train, \r\n",
        "          y=y_train, \r\n",
        "          epochs=600,\r\n",
        "          validation_data=(X_test, y_test), verbose=1\r\n",
        "          )"
      ],
      "execution_count": null,
      "outputs": [
        {
          "output_type": "stream",
          "text": [
            "Epoch 1/600\n",
            "1335/1335 [==============================] - 5s 3ms/step - loss: 0.3945 - val_loss: 0.2307\n",
            "Epoch 2/600\n",
            "1335/1335 [==============================] - 3s 2ms/step - loss: 0.2089 - val_loss: 0.1619\n",
            "Epoch 3/600\n",
            "1335/1335 [==============================] - 3s 2ms/step - loss: 0.1680 - val_loss: 0.1660\n",
            "Epoch 4/600\n",
            "1335/1335 [==============================] - 3s 2ms/step - loss: 0.1516 - val_loss: 0.1358\n",
            "Epoch 5/600\n",
            "1335/1335 [==============================] - 3s 2ms/step - loss: 0.1374 - val_loss: 0.1244\n",
            "Epoch 6/600\n",
            "1335/1335 [==============================] - 3s 2ms/step - loss: 0.1267 - val_loss: 0.1142\n",
            "Epoch 7/600\n",
            "1335/1335 [==============================] - 3s 2ms/step - loss: 0.1237 - val_loss: 0.1380\n",
            "Epoch 8/600\n",
            "1335/1335 [==============================] - 3s 2ms/step - loss: 0.1241 - val_loss: 0.1058\n",
            "Epoch 9/600\n",
            "1335/1335 [==============================] - 3s 2ms/step - loss: 0.1155 - val_loss: 0.1242\n",
            "Epoch 10/600\n",
            "1335/1335 [==============================] - 3s 2ms/step - loss: 0.1131 - val_loss: 0.1165\n",
            "Epoch 11/600\n",
            "1335/1335 [==============================] - 3s 2ms/step - loss: 0.1061 - val_loss: 0.0904\n",
            "Epoch 12/600\n",
            "1335/1335 [==============================] - 3s 2ms/step - loss: 0.1038 - val_loss: 0.1007\n",
            "Epoch 13/600\n",
            "1335/1335 [==============================] - 3s 2ms/step - loss: 0.1073 - val_loss: 0.1125\n",
            "Epoch 14/600\n",
            "1335/1335 [==============================] - 3s 2ms/step - loss: 0.0971 - val_loss: 0.0981\n",
            "Epoch 15/600\n",
            "1335/1335 [==============================] - 3s 2ms/step - loss: 0.1011 - val_loss: 0.0972\n",
            "Epoch 16/600\n",
            "1335/1335 [==============================] - 3s 2ms/step - loss: 0.0960 - val_loss: 0.1038\n",
            "Epoch 17/600\n",
            "1335/1335 [==============================] - 3s 2ms/step - loss: 0.0935 - val_loss: 0.0947\n",
            "Epoch 18/600\n",
            "1335/1335 [==============================] - 3s 2ms/step - loss: 0.0925 - val_loss: 0.0921\n",
            "Epoch 19/600\n",
            "1335/1335 [==============================] - 3s 2ms/step - loss: 0.0915 - val_loss: 0.0843\n",
            "Epoch 20/600\n",
            "1335/1335 [==============================] - 3s 2ms/step - loss: 0.0872 - val_loss: 0.0942\n",
            "Epoch 21/600\n",
            "1335/1335 [==============================] - 3s 2ms/step - loss: 0.0896 - val_loss: 0.0818\n",
            "Epoch 22/600\n",
            "1335/1335 [==============================] - 3s 2ms/step - loss: 0.0864 - val_loss: 0.0982\n",
            "Epoch 23/600\n",
            "1335/1335 [==============================] - 3s 2ms/step - loss: 0.0854 - val_loss: 0.0835\n",
            "Epoch 24/600\n",
            "1335/1335 [==============================] - 3s 2ms/step - loss: 0.0824 - val_loss: 0.0796\n",
            "Epoch 25/600\n",
            "1335/1335 [==============================] - 3s 2ms/step - loss: 0.0833 - val_loss: 0.0823\n",
            "Epoch 26/600\n",
            "1335/1335 [==============================] - 3s 2ms/step - loss: 0.0809 - val_loss: 0.0769\n",
            "Epoch 27/600\n",
            "1335/1335 [==============================] - 3s 2ms/step - loss: 0.0788 - val_loss: 0.0846\n",
            "Epoch 28/600\n",
            "1335/1335 [==============================] - 3s 2ms/step - loss: 0.0762 - val_loss: 0.0864\n",
            "Epoch 29/600\n",
            "1335/1335 [==============================] - 3s 2ms/step - loss: 0.0741 - val_loss: 0.0784\n",
            "Epoch 30/600\n",
            "1335/1335 [==============================] - 2s 2ms/step - loss: 0.0764 - val_loss: 0.0903\n",
            "Epoch 31/600\n",
            "1335/1335 [==============================] - 3s 2ms/step - loss: 0.0758 - val_loss: 0.0776\n",
            "Epoch 32/600\n",
            "1335/1335 [==============================] - 3s 2ms/step - loss: 0.0742 - val_loss: 0.0746\n",
            "Epoch 33/600\n",
            "1335/1335 [==============================] - 3s 2ms/step - loss: 0.0707 - val_loss: 0.0687\n",
            "Epoch 34/600\n",
            "1335/1335 [==============================] - 2s 2ms/step - loss: 0.0724 - val_loss: 0.0761\n",
            "Epoch 35/600\n",
            "1335/1335 [==============================] - 3s 2ms/step - loss: 0.0755 - val_loss: 0.0733\n",
            "Epoch 36/600\n",
            "1335/1335 [==============================] - 3s 2ms/step - loss: 0.0706 - val_loss: 0.0856\n",
            "Epoch 37/600\n",
            "1335/1335 [==============================] - 3s 2ms/step - loss: 0.0689 - val_loss: 0.0658\n",
            "Epoch 38/600\n",
            "1335/1335 [==============================] - 3s 2ms/step - loss: 0.0668 - val_loss: 0.0719\n",
            "Epoch 39/600\n",
            "1335/1335 [==============================] - 3s 2ms/step - loss: 0.0667 - val_loss: 0.0703\n",
            "Epoch 40/600\n",
            "1335/1335 [==============================] - 3s 2ms/step - loss: 0.0654 - val_loss: 0.0717\n",
            "Epoch 41/600\n",
            "1335/1335 [==============================] - 3s 2ms/step - loss: 0.0641 - val_loss: 0.0744\n",
            "Epoch 42/600\n",
            "1335/1335 [==============================] - 3s 2ms/step - loss: 0.0633 - val_loss: 0.0703\n",
            "Epoch 43/600\n",
            "1335/1335 [==============================] - 3s 2ms/step - loss: 0.0655 - val_loss: 0.0682\n",
            "Epoch 44/600\n",
            "1335/1335 [==============================] - 3s 2ms/step - loss: 0.0633 - val_loss: 0.0782\n",
            "Epoch 45/600\n",
            "1335/1335 [==============================] - 3s 2ms/step - loss: 0.0622 - val_loss: 0.0673\n",
            "Epoch 46/600\n",
            "1335/1335 [==============================] - 3s 2ms/step - loss: 0.0604 - val_loss: 0.0687\n",
            "Epoch 47/600\n",
            "1335/1335 [==============================] - 3s 2ms/step - loss: 0.0597 - val_loss: 0.0669\n",
            "Epoch 48/600\n",
            "1335/1335 [==============================] - 3s 2ms/step - loss: 0.0612 - val_loss: 0.0676\n",
            "Epoch 49/600\n",
            "1335/1335 [==============================] - 3s 2ms/step - loss: 0.0586 - val_loss: 0.0728\n",
            "Epoch 50/600\n",
            "1335/1335 [==============================] - 2s 2ms/step - loss: 0.0593 - val_loss: 0.0661\n",
            "Epoch 51/600\n",
            "1335/1335 [==============================] - 3s 2ms/step - loss: 0.0568 - val_loss: 0.0803\n",
            "Epoch 52/600\n",
            "1335/1335 [==============================] - 2s 2ms/step - loss: 0.0585 - val_loss: 0.0750\n",
            "Epoch 53/600\n",
            "1335/1335 [==============================] - 3s 2ms/step - loss: 0.0572 - val_loss: 0.0718\n",
            "Epoch 54/600\n",
            "1335/1335 [==============================] - 2s 2ms/step - loss: 0.0558 - val_loss: 0.0707\n",
            "Epoch 55/600\n",
            "1335/1335 [==============================] - 3s 2ms/step - loss: 0.0571 - val_loss: 0.0658\n",
            "Epoch 56/600\n",
            "1335/1335 [==============================] - 3s 2ms/step - loss: 0.0561 - val_loss: 0.0782\n",
            "Epoch 57/600\n",
            "1335/1335 [==============================] - 3s 2ms/step - loss: 0.0539 - val_loss: 0.0668\n",
            "Epoch 58/600\n",
            "1335/1335 [==============================] - 3s 2ms/step - loss: 0.0522 - val_loss: 0.0737\n",
            "Epoch 59/600\n",
            "1335/1335 [==============================] - 3s 2ms/step - loss: 0.0548 - val_loss: 0.0723\n",
            "Epoch 60/600\n",
            "1335/1335 [==============================] - 3s 2ms/step - loss: 0.0525 - val_loss: 0.0677\n",
            "Epoch 61/600\n",
            "1335/1335 [==============================] - 3s 2ms/step - loss: 0.0541 - val_loss: 0.0704\n",
            "Epoch 62/600\n",
            "1335/1335 [==============================] - 3s 2ms/step - loss: 0.0523 - val_loss: 0.0710\n",
            "Epoch 63/600\n",
            "1335/1335 [==============================] - 2s 2ms/step - loss: 0.0515 - val_loss: 0.0698\n",
            "Epoch 64/600\n",
            "1335/1335 [==============================] - 3s 2ms/step - loss: 0.0467 - val_loss: 0.0706\n",
            "Epoch 65/600\n",
            "1335/1335 [==============================] - 3s 2ms/step - loss: 0.0483 - val_loss: 0.0688\n",
            "Epoch 66/600\n",
            "1335/1335 [==============================] - 2s 2ms/step - loss: 0.0492 - val_loss: 0.0764\n",
            "Epoch 67/600\n",
            "1335/1335 [==============================] - 2s 2ms/step - loss: 0.0490 - val_loss: 0.0737\n",
            "Epoch 68/600\n",
            "1335/1335 [==============================] - 3s 2ms/step - loss: 0.0472 - val_loss: 0.0641\n",
            "Epoch 69/600\n",
            "1335/1335 [==============================] - 3s 2ms/step - loss: 0.0479 - val_loss: 0.0858\n",
            "Epoch 70/600\n",
            "1335/1335 [==============================] - 2s 2ms/step - loss: 0.0480 - val_loss: 0.0690\n",
            "Epoch 71/600\n",
            "1335/1335 [==============================] - 2s 2ms/step - loss: 0.0520 - val_loss: 0.0683\n",
            "Epoch 72/600\n",
            "1335/1335 [==============================] - 3s 2ms/step - loss: 0.0448 - val_loss: 0.0741\n",
            "Epoch 73/600\n",
            "1335/1335 [==============================] - 2s 2ms/step - loss: 0.0458 - val_loss: 0.0724\n",
            "Epoch 74/600\n",
            "1335/1335 [==============================] - 3s 2ms/step - loss: 0.0478 - val_loss: 0.0664\n",
            "Epoch 75/600\n",
            "1335/1335 [==============================] - 3s 2ms/step - loss: 0.0471 - val_loss: 0.0642\n",
            "Epoch 76/600\n",
            "1335/1335 [==============================] - 3s 2ms/step - loss: 0.0435 - val_loss: 0.0857\n",
            "Epoch 77/600\n",
            "1335/1335 [==============================] - 3s 2ms/step - loss: 0.0443 - val_loss: 0.0702\n",
            "Epoch 78/600\n",
            "1335/1335 [==============================] - 3s 2ms/step - loss: 0.0446 - val_loss: 0.0817\n",
            "Epoch 79/600\n",
            "1335/1335 [==============================] - 3s 2ms/step - loss: 0.0456 - val_loss: 0.0678\n",
            "Epoch 80/600\n",
            "1335/1335 [==============================] - 3s 2ms/step - loss: 0.0403 - val_loss: 0.0689\n",
            "Epoch 81/600\n",
            "1335/1335 [==============================] - 3s 2ms/step - loss: 0.0410 - val_loss: 0.0719\n",
            "Epoch 82/600\n",
            "1335/1335 [==============================] - 3s 2ms/step - loss: 0.0446 - val_loss: 0.0728\n",
            "Epoch 83/600\n",
            "1335/1335 [==============================] - 3s 2ms/step - loss: 0.0417 - val_loss: 0.0669\n",
            "Epoch 84/600\n",
            "1335/1335 [==============================] - 3s 2ms/step - loss: 0.0426 - val_loss: 0.0666\n",
            "Epoch 85/600\n",
            "1335/1335 [==============================] - 3s 2ms/step - loss: 0.0427 - val_loss: 0.0774\n",
            "Epoch 86/600\n",
            "1335/1335 [==============================] - 3s 2ms/step - loss: 0.0409 - val_loss: 0.0731\n",
            "Epoch 87/600\n",
            "1335/1335 [==============================] - 3s 2ms/step - loss: 0.0430 - val_loss: 0.0706\n",
            "Epoch 88/600\n",
            "1335/1335 [==============================] - 3s 2ms/step - loss: 0.0402 - val_loss: 0.0716\n",
            "Epoch 89/600\n",
            "1335/1335 [==============================] - 3s 2ms/step - loss: 0.0421 - val_loss: 0.0760\n",
            "Epoch 90/600\n",
            "1335/1335 [==============================] - 3s 2ms/step - loss: 0.0405 - val_loss: 0.0741\n",
            "Epoch 91/600\n",
            "1335/1335 [==============================] - 3s 2ms/step - loss: 0.0406 - val_loss: 0.0703\n",
            "Epoch 92/600\n",
            "1335/1335 [==============================] - 2s 2ms/step - loss: 0.0387 - val_loss: 0.0700\n",
            "Epoch 93/600\n",
            "1335/1335 [==============================] - 3s 2ms/step - loss: 0.0396 - val_loss: 0.0817\n",
            "Epoch 94/600\n",
            "1335/1335 [==============================] - 3s 2ms/step - loss: 0.0427 - val_loss: 0.0789\n",
            "Epoch 95/600\n",
            "1335/1335 [==============================] - 3s 2ms/step - loss: 0.0381 - val_loss: 0.0753\n",
            "Epoch 96/600\n",
            "1335/1335 [==============================] - 3s 2ms/step - loss: 0.0391 - val_loss: 0.0753\n",
            "Epoch 97/600\n",
            "1335/1335 [==============================] - 3s 2ms/step - loss: 0.0397 - val_loss: 0.0804\n",
            "Epoch 98/600\n",
            "1335/1335 [==============================] - 3s 2ms/step - loss: 0.0383 - val_loss: 0.0726\n",
            "Epoch 99/600\n",
            "1335/1335 [==============================] - 3s 2ms/step - loss: 0.0381 - val_loss: 0.0686\n",
            "Epoch 100/600\n",
            "1335/1335 [==============================] - 3s 2ms/step - loss: 0.0379 - val_loss: 0.0863\n",
            "Epoch 101/600\n",
            "1335/1335 [==============================] - 3s 2ms/step - loss: 0.0375 - val_loss: 0.0760\n",
            "Epoch 102/600\n",
            "1335/1335 [==============================] - 3s 2ms/step - loss: 0.0378 - val_loss: 0.0767\n",
            "Epoch 103/600\n",
            "1335/1335 [==============================] - 3s 2ms/step - loss: 0.0383 - val_loss: 0.0755\n",
            "Epoch 104/600\n",
            "1335/1335 [==============================] - 2s 2ms/step - loss: 0.0357 - val_loss: 0.0765\n",
            "Epoch 105/600\n",
            "1335/1335 [==============================] - 3s 2ms/step - loss: 0.0367 - val_loss: 0.0776\n",
            "Epoch 106/600\n",
            "1335/1335 [==============================] - 3s 2ms/step - loss: 0.0378 - val_loss: 0.0782\n",
            "Epoch 107/600\n",
            "1335/1335 [==============================] - 3s 2ms/step - loss: 0.0371 - val_loss: 0.0778\n",
            "Epoch 108/600\n",
            "1335/1335 [==============================] - 3s 2ms/step - loss: 0.0364 - val_loss: 0.0821\n",
            "Epoch 109/600\n",
            "1335/1335 [==============================] - 3s 2ms/step - loss: 0.0350 - val_loss: 0.0746\n",
            "Epoch 110/600\n",
            "1335/1335 [==============================] - 3s 2ms/step - loss: 0.0367 - val_loss: 0.0706\n",
            "Epoch 111/600\n",
            "1335/1335 [==============================] - 3s 2ms/step - loss: 0.0332 - val_loss: 0.0782\n",
            "Epoch 112/600\n",
            "1335/1335 [==============================] - 3s 2ms/step - loss: 0.0347 - val_loss: 0.0792\n",
            "Epoch 113/600\n",
            "1335/1335 [==============================] - 3s 2ms/step - loss: 0.0349 - val_loss: 0.0702\n",
            "Epoch 114/600\n",
            "1335/1335 [==============================] - 3s 2ms/step - loss: 0.0321 - val_loss: 0.0723\n",
            "Epoch 115/600\n",
            "1335/1335 [==============================] - 3s 2ms/step - loss: 0.0329 - val_loss: 0.0800\n",
            "Epoch 116/600\n",
            "1335/1335 [==============================] - 3s 2ms/step - loss: 0.0357 - val_loss: 0.0799\n",
            "Epoch 117/600\n",
            "1335/1335 [==============================] - 3s 2ms/step - loss: 0.0355 - val_loss: 0.0810\n",
            "Epoch 118/600\n",
            "1335/1335 [==============================] - 3s 2ms/step - loss: 0.0323 - val_loss: 0.0783\n",
            "Epoch 119/600\n",
            "1335/1335 [==============================] - 3s 2ms/step - loss: 0.0315 - val_loss: 0.0757\n",
            "Epoch 120/600\n",
            "1335/1335 [==============================] - 3s 2ms/step - loss: 0.0359 - val_loss: 0.0739\n",
            "Epoch 121/600\n",
            "1335/1335 [==============================] - 3s 2ms/step - loss: 0.0299 - val_loss: 0.0961\n",
            "Epoch 122/600\n",
            "1335/1335 [==============================] - 3s 2ms/step - loss: 0.0385 - val_loss: 0.0707\n",
            "Epoch 123/600\n",
            "1335/1335 [==============================] - 3s 2ms/step - loss: 0.0338 - val_loss: 0.0835\n",
            "Epoch 124/600\n",
            "1335/1335 [==============================] - 3s 2ms/step - loss: 0.0324 - val_loss: 0.0914\n",
            "Epoch 125/600\n",
            "1335/1335 [==============================] - 3s 2ms/step - loss: 0.0327 - val_loss: 0.0748\n",
            "Epoch 126/600\n",
            "1335/1335 [==============================] - 3s 2ms/step - loss: 0.0331 - val_loss: 0.0796\n",
            "Epoch 127/600\n",
            "1335/1335 [==============================] - 3s 2ms/step - loss: 0.0342 - val_loss: 0.0794\n",
            "Epoch 128/600\n",
            "1335/1335 [==============================] - 3s 2ms/step - loss: 0.0353 - val_loss: 0.0967\n",
            "Epoch 129/600\n",
            "1335/1335 [==============================] - 3s 2ms/step - loss: 0.0301 - val_loss: 0.0892\n",
            "Epoch 130/600\n",
            "1335/1335 [==============================] - 3s 2ms/step - loss: 0.0322 - val_loss: 0.0817\n",
            "Epoch 131/600\n",
            "1335/1335 [==============================] - 3s 2ms/step - loss: 0.0269 - val_loss: 0.0817\n",
            "Epoch 132/600\n",
            "1335/1335 [==============================] - 3s 2ms/step - loss: 0.0313 - val_loss: 0.0802\n",
            "Epoch 133/600\n",
            "1335/1335 [==============================] - 3s 2ms/step - loss: 0.0302 - val_loss: 0.0923\n",
            "Epoch 134/600\n",
            "1335/1335 [==============================] - 3s 2ms/step - loss: 0.0331 - val_loss: 0.0769\n",
            "Epoch 135/600\n",
            "1335/1335 [==============================] - 3s 2ms/step - loss: 0.0298 - val_loss: 0.0785\n",
            "Epoch 136/600\n",
            "1335/1335 [==============================] - 3s 2ms/step - loss: 0.0313 - val_loss: 0.0772\n",
            "Epoch 137/600\n",
            "1335/1335 [==============================] - 3s 2ms/step - loss: 0.0303 - val_loss: 0.0733\n",
            "Epoch 138/600\n",
            "1335/1335 [==============================] - 3s 2ms/step - loss: 0.0313 - val_loss: 0.0768\n",
            "Epoch 139/600\n",
            "1335/1335 [==============================] - 3s 2ms/step - loss: 0.0296 - val_loss: 0.0729\n",
            "Epoch 140/600\n",
            "1335/1335 [==============================] - 3s 2ms/step - loss: 0.0308 - val_loss: 0.0816\n",
            "Epoch 141/600\n",
            "1335/1335 [==============================] - 3s 2ms/step - loss: 0.0281 - val_loss: 0.0706\n",
            "Epoch 142/600\n",
            "1335/1335 [==============================] - 3s 2ms/step - loss: 0.0286 - val_loss: 0.0732\n",
            "Epoch 143/600\n",
            "1335/1335 [==============================] - 3s 2ms/step - loss: 0.0308 - val_loss: 0.0837\n",
            "Epoch 144/600\n",
            "1335/1335 [==============================] - 3s 2ms/step - loss: 0.0315 - val_loss: 0.0740\n",
            "Epoch 145/600\n",
            "1335/1335 [==============================] - 3s 2ms/step - loss: 0.0276 - val_loss: 0.0790\n",
            "Epoch 146/600\n",
            "1335/1335 [==============================] - 3s 2ms/step - loss: 0.0283 - val_loss: 0.0904\n",
            "Epoch 147/600\n",
            "1335/1335 [==============================] - 3s 2ms/step - loss: 0.0294 - val_loss: 0.0808\n",
            "Epoch 148/600\n",
            "1335/1335 [==============================] - 3s 2ms/step - loss: 0.0277 - val_loss: 0.0802\n",
            "Epoch 149/600\n",
            "1335/1335 [==============================] - 3s 2ms/step - loss: 0.0288 - val_loss: 0.0824\n",
            "Epoch 150/600\n",
            "1335/1335 [==============================] - 3s 2ms/step - loss: 0.0266 - val_loss: 0.0884\n",
            "Epoch 151/600\n",
            "1335/1335 [==============================] - 3s 2ms/step - loss: 0.0282 - val_loss: 0.0828\n",
            "Epoch 152/600\n",
            "1335/1335 [==============================] - 3s 2ms/step - loss: 0.0289 - val_loss: 0.0783\n",
            "Epoch 153/600\n",
            "1335/1335 [==============================] - 3s 2ms/step - loss: 0.0278 - val_loss: 0.0812\n",
            "Epoch 154/600\n",
            "1335/1335 [==============================] - 3s 2ms/step - loss: 0.0278 - val_loss: 0.0760\n",
            "Epoch 155/600\n",
            "1335/1335 [==============================] - 3s 2ms/step - loss: 0.0250 - val_loss: 0.0792\n",
            "Epoch 156/600\n",
            "1335/1335 [==============================] - 3s 2ms/step - loss: 0.0282 - val_loss: 0.0809\n",
            "Epoch 157/600\n",
            "1335/1335 [==============================] - 3s 2ms/step - loss: 0.0292 - val_loss: 0.0838\n",
            "Epoch 158/600\n",
            "1335/1335 [==============================] - 3s 2ms/step - loss: 0.0281 - val_loss: 0.0838\n",
            "Epoch 159/600\n",
            "1335/1335 [==============================] - 3s 2ms/step - loss: 0.0293 - val_loss: 0.0853\n",
            "Epoch 160/600\n",
            "1335/1335 [==============================] - 3s 2ms/step - loss: 0.0256 - val_loss: 0.0798\n",
            "Epoch 161/600\n",
            "1335/1335 [==============================] - 3s 2ms/step - loss: 0.0260 - val_loss: 0.0919\n",
            "Epoch 162/600\n",
            "1335/1335 [==============================] - 3s 2ms/step - loss: 0.0250 - val_loss: 0.0848\n",
            "Epoch 163/600\n",
            "1335/1335 [==============================] - 3s 2ms/step - loss: 0.0306 - val_loss: 0.0814\n",
            "Epoch 164/600\n",
            "1335/1335 [==============================] - 3s 2ms/step - loss: 0.0274 - val_loss: 0.0800\n",
            "Epoch 165/600\n",
            "1335/1335 [==============================] - 3s 2ms/step - loss: 0.0270 - val_loss: 0.0769\n",
            "Epoch 166/600\n",
            "1335/1335 [==============================] - 3s 2ms/step - loss: 0.0268 - val_loss: 0.0790\n",
            "Epoch 167/600\n",
            "1335/1335 [==============================] - 3s 2ms/step - loss: 0.0250 - val_loss: 0.0727\n",
            "Epoch 168/600\n",
            "1335/1335 [==============================] - 3s 2ms/step - loss: 0.0262 - val_loss: 0.0914\n",
            "Epoch 169/600\n",
            "1335/1335 [==============================] - 3s 2ms/step - loss: 0.0278 - val_loss: 0.0918\n",
            "Epoch 170/600\n",
            "1335/1335 [==============================] - 3s 2ms/step - loss: 0.0267 - val_loss: 0.0805\n",
            "Epoch 171/600\n",
            "1335/1335 [==============================] - 3s 2ms/step - loss: 0.0216 - val_loss: 0.1033\n",
            "Epoch 172/600\n",
            "1335/1335 [==============================] - 3s 2ms/step - loss: 0.0276 - val_loss: 0.0861\n",
            "Epoch 173/600\n",
            "1335/1335 [==============================] - 3s 2ms/step - loss: 0.0254 - val_loss: 0.0750\n",
            "Epoch 174/600\n",
            "1335/1335 [==============================] - 3s 2ms/step - loss: 0.0282 - val_loss: 0.0824\n",
            "Epoch 175/600\n",
            "1335/1335 [==============================] - 3s 2ms/step - loss: 0.0249 - val_loss: 0.0828\n",
            "Epoch 176/600\n",
            "1335/1335 [==============================] - 3s 2ms/step - loss: 0.0246 - val_loss: 0.0937\n",
            "Epoch 177/600\n",
            "1335/1335 [==============================] - 3s 2ms/step - loss: 0.0246 - val_loss: 0.0890\n",
            "Epoch 178/600\n",
            "1335/1335 [==============================] - 3s 2ms/step - loss: 0.0246 - val_loss: 0.0869\n",
            "Epoch 179/600\n",
            "1335/1335 [==============================] - 3s 2ms/step - loss: 0.0256 - val_loss: 0.0849\n",
            "Epoch 180/600\n",
            "1335/1335 [==============================] - 3s 2ms/step - loss: 0.0264 - val_loss: 0.0930\n",
            "Epoch 181/600\n",
            "1335/1335 [==============================] - 3s 2ms/step - loss: 0.0250 - val_loss: 0.0919\n",
            "Epoch 182/600\n",
            "1335/1335 [==============================] - 3s 2ms/step - loss: 0.0270 - val_loss: 0.0834\n",
            "Epoch 183/600\n",
            "1335/1335 [==============================] - 3s 2ms/step - loss: 0.0253 - val_loss: 0.0841\n",
            "Epoch 184/600\n",
            "1335/1335 [==============================] - 3s 2ms/step - loss: 0.0249 - val_loss: 0.0871\n",
            "Epoch 185/600\n",
            "1335/1335 [==============================] - 3s 2ms/step - loss: 0.0239 - val_loss: 0.0892\n",
            "Epoch 186/600\n",
            "1335/1335 [==============================] - 3s 2ms/step - loss: 0.0253 - val_loss: 0.0853\n",
            "Epoch 187/600\n",
            "1335/1335 [==============================] - 3s 2ms/step - loss: 0.0255 - val_loss: 0.0794\n",
            "Epoch 188/600\n",
            "1335/1335 [==============================] - 3s 2ms/step - loss: 0.0254 - val_loss: 0.0881\n",
            "Epoch 189/600\n",
            "1335/1335 [==============================] - 3s 2ms/step - loss: 0.0254 - val_loss: 0.0826\n",
            "Epoch 190/600\n",
            "1335/1335 [==============================] - 3s 2ms/step - loss: 0.0218 - val_loss: 0.0888\n",
            "Epoch 191/600\n",
            "1335/1335 [==============================] - 3s 2ms/step - loss: 0.0217 - val_loss: 0.0874\n",
            "Epoch 192/600\n",
            "1335/1335 [==============================] - 3s 2ms/step - loss: 0.0251 - val_loss: 0.0809\n",
            "Epoch 193/600\n",
            "1335/1335 [==============================] - 3s 2ms/step - loss: 0.0234 - val_loss: 0.0780\n",
            "Epoch 194/600\n",
            "1335/1335 [==============================] - 3s 2ms/step - loss: 0.0241 - val_loss: 0.0973\n",
            "Epoch 195/600\n",
            "1335/1335 [==============================] - 3s 2ms/step - loss: 0.0244 - val_loss: 0.0912\n",
            "Epoch 196/600\n",
            "1335/1335 [==============================] - 3s 2ms/step - loss: 0.0231 - val_loss: 0.0819\n",
            "Epoch 197/600\n",
            "1335/1335 [==============================] - 3s 2ms/step - loss: 0.0227 - val_loss: 0.0822\n",
            "Epoch 198/600\n",
            "1335/1335 [==============================] - 3s 2ms/step - loss: 0.0220 - val_loss: 0.0938\n",
            "Epoch 199/600\n",
            "1335/1335 [==============================] - 3s 2ms/step - loss: 0.0199 - val_loss: 0.0962\n",
            "Epoch 200/600\n",
            "1335/1335 [==============================] - 3s 2ms/step - loss: 0.0228 - val_loss: 0.0793\n",
            "Epoch 201/600\n",
            "1335/1335 [==============================] - 3s 2ms/step - loss: 0.0230 - val_loss: 0.0905\n",
            "Epoch 202/600\n",
            "1335/1335 [==============================] - 3s 2ms/step - loss: 0.0230 - val_loss: 0.0808\n",
            "Epoch 203/600\n",
            "1335/1335 [==============================] - 3s 2ms/step - loss: 0.0227 - val_loss: 0.0872\n",
            "Epoch 204/600\n",
            "1335/1335 [==============================] - 3s 2ms/step - loss: 0.0243 - val_loss: 0.0840\n",
            "Epoch 205/600\n",
            "1335/1335 [==============================] - 3s 2ms/step - loss: 0.0221 - val_loss: 0.0811\n",
            "Epoch 206/600\n",
            "1335/1335 [==============================] - 3s 2ms/step - loss: 0.0236 - val_loss: 0.0814\n",
            "Epoch 207/600\n",
            "1335/1335 [==============================] - 3s 2ms/step - loss: 0.0221 - val_loss: 0.0928\n",
            "Epoch 208/600\n",
            "1335/1335 [==============================] - 3s 3ms/step - loss: 0.0261 - val_loss: 0.0761\n",
            "Epoch 209/600\n",
            "1335/1335 [==============================] - 3s 2ms/step - loss: 0.0201 - val_loss: 0.0900\n",
            "Epoch 210/600\n",
            "1335/1335 [==============================] - 3s 2ms/step - loss: 0.0214 - val_loss: 0.0845\n",
            "Epoch 211/600\n",
            "1335/1335 [==============================] - 3s 2ms/step - loss: 0.0234 - val_loss: 0.0835\n",
            "Epoch 212/600\n",
            "1335/1335 [==============================] - 3s 2ms/step - loss: 0.0237 - val_loss: 0.0902\n",
            "Epoch 213/600\n",
            "1335/1335 [==============================] - 3s 2ms/step - loss: 0.0199 - val_loss: 0.0950\n",
            "Epoch 214/600\n",
            "1335/1335 [==============================] - 3s 2ms/step - loss: 0.0236 - val_loss: 0.0944\n",
            "Epoch 215/600\n",
            "1335/1335 [==============================] - 3s 2ms/step - loss: 0.0221 - val_loss: 0.0735\n",
            "Epoch 216/600\n",
            "1335/1335 [==============================] - 3s 2ms/step - loss: 0.0208 - val_loss: 0.0810\n",
            "Epoch 217/600\n",
            "1335/1335 [==============================] - 3s 2ms/step - loss: 0.0231 - val_loss: 0.1003\n",
            "Epoch 218/600\n",
            "1335/1335 [==============================] - 3s 2ms/step - loss: 0.0244 - val_loss: 0.0849\n",
            "Epoch 219/600\n",
            "1335/1335 [==============================] - 3s 2ms/step - loss: 0.0237 - val_loss: 0.0767\n",
            "Epoch 220/600\n",
            "1335/1335 [==============================] - 3s 2ms/step - loss: 0.0224 - val_loss: 0.0789\n",
            "Epoch 221/600\n",
            "1335/1335 [==============================] - 3s 2ms/step - loss: 0.0194 - val_loss: 0.0849\n",
            "Epoch 222/600\n",
            "1335/1335 [==============================] - 3s 2ms/step - loss: 0.0207 - val_loss: 0.0907\n",
            "Epoch 223/600\n",
            "1335/1335 [==============================] - 3s 2ms/step - loss: 0.0226 - val_loss: 0.0902\n",
            "Epoch 224/600\n",
            "1335/1335 [==============================] - 3s 2ms/step - loss: 0.0214 - val_loss: 0.0846\n",
            "Epoch 225/600\n",
            "1335/1335 [==============================] - 3s 2ms/step - loss: 0.0195 - val_loss: 0.0926\n",
            "Epoch 226/600\n",
            "1335/1335 [==============================] - 3s 2ms/step - loss: 0.0204 - val_loss: 0.0807\n",
            "Epoch 227/600\n",
            "1335/1335 [==============================] - 3s 2ms/step - loss: 0.0241 - val_loss: 0.0770\n",
            "Epoch 228/600\n",
            "1335/1335 [==============================] - 3s 2ms/step - loss: 0.0210 - val_loss: 0.0814\n",
            "Epoch 229/600\n",
            "1335/1335 [==============================] - 3s 2ms/step - loss: 0.0203 - val_loss: 0.1004\n",
            "Epoch 230/600\n",
            "1335/1335 [==============================] - 3s 3ms/step - loss: 0.0230 - val_loss: 0.0849\n",
            "Epoch 231/600\n",
            "1335/1335 [==============================] - 3s 2ms/step - loss: 0.0206 - val_loss: 0.0976\n",
            "Epoch 232/600\n",
            "1335/1335 [==============================] - 3s 2ms/step - loss: 0.0195 - val_loss: 0.0966\n",
            "Epoch 233/600\n",
            "1335/1335 [==============================] - 3s 2ms/step - loss: 0.0234 - val_loss: 0.0976\n",
            "Epoch 234/600\n",
            "1335/1335 [==============================] - 3s 2ms/step - loss: 0.0205 - val_loss: 0.0840\n",
            "Epoch 235/600\n",
            "1335/1335 [==============================] - 3s 2ms/step - loss: 0.0208 - val_loss: 0.0859\n",
            "Epoch 236/600\n",
            "1335/1335 [==============================] - 3s 2ms/step - loss: 0.0207 - val_loss: 0.0877\n",
            "Epoch 237/600\n",
            "1335/1335 [==============================] - 3s 2ms/step - loss: 0.0227 - val_loss: 0.0937\n",
            "Epoch 238/600\n",
            "1335/1335 [==============================] - 3s 2ms/step - loss: 0.0212 - val_loss: 0.0921\n",
            "Epoch 239/600\n",
            "1335/1335 [==============================] - 3s 2ms/step - loss: 0.0231 - val_loss: 0.0894\n",
            "Epoch 240/600\n",
            "1335/1335 [==============================] - 3s 2ms/step - loss: 0.0190 - val_loss: 0.0969\n",
            "Epoch 241/600\n",
            "1335/1335 [==============================] - 3s 2ms/step - loss: 0.0192 - val_loss: 0.0976\n",
            "Epoch 242/600\n",
            "1335/1335 [==============================] - 3s 2ms/step - loss: 0.0197 - val_loss: 0.0907\n",
            "Epoch 243/600\n",
            "1335/1335 [==============================] - 3s 2ms/step - loss: 0.0155 - val_loss: 0.0991\n",
            "Epoch 244/600\n",
            "1335/1335 [==============================] - 3s 2ms/step - loss: 0.0191 - val_loss: 0.0891\n",
            "Epoch 245/600\n",
            "1335/1335 [==============================] - 3s 2ms/step - loss: 0.0195 - val_loss: 0.0803\n",
            "Epoch 246/600\n",
            "1335/1335 [==============================] - 3s 2ms/step - loss: 0.0207 - val_loss: 0.0806\n",
            "Epoch 247/600\n",
            "1335/1335 [==============================] - 3s 2ms/step - loss: 0.0172 - val_loss: 0.0860\n",
            "Epoch 248/600\n",
            "1335/1335 [==============================] - 3s 2ms/step - loss: 0.0234 - val_loss: 0.0898\n",
            "Epoch 249/600\n",
            "1335/1335 [==============================] - 3s 2ms/step - loss: 0.0202 - val_loss: 0.0844\n",
            "Epoch 250/600\n",
            "1335/1335 [==============================] - 3s 2ms/step - loss: 0.0206 - val_loss: 0.0869\n",
            "Epoch 251/600\n",
            "1335/1335 [==============================] - 3s 2ms/step - loss: 0.0208 - val_loss: 0.0914\n",
            "Epoch 252/600\n",
            "1335/1335 [==============================] - 3s 2ms/step - loss: 0.0180 - val_loss: 0.0847\n",
            "Epoch 253/600\n",
            "1335/1335 [==============================] - 3s 2ms/step - loss: 0.0194 - val_loss: 0.0877\n",
            "Epoch 254/600\n",
            "1335/1335 [==============================] - 3s 2ms/step - loss: 0.0178 - val_loss: 0.1018\n",
            "Epoch 255/600\n",
            "1335/1335 [==============================] - 3s 2ms/step - loss: 0.0193 - val_loss: 0.0845\n",
            "Epoch 256/600\n",
            "1335/1335 [==============================] - 3s 2ms/step - loss: 0.0180 - val_loss: 0.0984\n",
            "Epoch 257/600\n",
            "1335/1335 [==============================] - 3s 2ms/step - loss: 0.0223 - val_loss: 0.1108\n",
            "Epoch 258/600\n",
            "1335/1335 [==============================] - 3s 2ms/step - loss: 0.0270 - val_loss: 0.0771\n",
            "Epoch 259/600\n",
            "1335/1335 [==============================] - 3s 2ms/step - loss: 0.0163 - val_loss: 0.0894\n",
            "Epoch 260/600\n",
            "1335/1335 [==============================] - 3s 2ms/step - loss: 0.0161 - val_loss: 0.0967\n",
            "Epoch 261/600\n",
            "1335/1335 [==============================] - 3s 2ms/step - loss: 0.0200 - val_loss: 0.0871\n",
            "Epoch 262/600\n",
            "1335/1335 [==============================] - 3s 2ms/step - loss: 0.0181 - val_loss: 0.0860\n",
            "Epoch 263/600\n",
            "1335/1335 [==============================] - 3s 2ms/step - loss: 0.0202 - val_loss: 0.0881\n",
            "Epoch 264/600\n",
            "1335/1335 [==============================] - 3s 2ms/step - loss: 0.0170 - val_loss: 0.1174\n",
            "Epoch 265/600\n",
            "1335/1335 [==============================] - 3s 2ms/step - loss: 0.0209 - val_loss: 0.0918\n",
            "Epoch 266/600\n",
            "1335/1335 [==============================] - 3s 2ms/step - loss: 0.0218 - val_loss: 0.0810\n",
            "Epoch 267/600\n",
            "1335/1335 [==============================] - 3s 2ms/step - loss: 0.0182 - val_loss: 0.0823\n",
            "Epoch 268/600\n",
            "1335/1335 [==============================] - 3s 2ms/step - loss: 0.0193 - val_loss: 0.0918\n",
            "Epoch 269/600\n",
            "1335/1335 [==============================] - 3s 2ms/step - loss: 0.0193 - val_loss: 0.0955\n",
            "Epoch 270/600\n",
            "1335/1335 [==============================] - 3s 2ms/step - loss: 0.0206 - val_loss: 0.1428\n",
            "Epoch 271/600\n",
            "1335/1335 [==============================] - 3s 2ms/step - loss: 0.0195 - val_loss: 0.0896\n",
            "Epoch 272/600\n",
            "1335/1335 [==============================] - 3s 2ms/step - loss: 0.0208 - val_loss: 0.0994\n",
            "Epoch 273/600\n",
            "1335/1335 [==============================] - 3s 2ms/step - loss: 0.0156 - val_loss: 0.0809\n",
            "Epoch 274/600\n",
            "1335/1335 [==============================] - 3s 2ms/step - loss: 0.0181 - val_loss: 0.1013\n",
            "Epoch 275/600\n",
            "1335/1335 [==============================] - 3s 2ms/step - loss: 0.0160 - val_loss: 0.1037\n",
            "Epoch 276/600\n",
            "1335/1335 [==============================] - 3s 2ms/step - loss: 0.0209 - val_loss: 0.1120\n",
            "Epoch 277/600\n",
            "1335/1335 [==============================] - 3s 2ms/step - loss: 0.0176 - val_loss: 0.0912\n",
            "Epoch 278/600\n",
            "1335/1335 [==============================] - 3s 2ms/step - loss: 0.0180 - val_loss: 0.0977\n",
            "Epoch 279/600\n",
            "1335/1335 [==============================] - 3s 2ms/step - loss: 0.0189 - val_loss: 0.0905\n",
            "Epoch 280/600\n",
            "1335/1335 [==============================] - 3s 2ms/step - loss: 0.0176 - val_loss: 0.0914\n",
            "Epoch 281/600\n",
            "1335/1335 [==============================] - 3s 2ms/step - loss: 0.0164 - val_loss: 0.0972\n",
            "Epoch 282/600\n",
            "1335/1335 [==============================] - 3s 2ms/step - loss: 0.0155 - val_loss: 0.0952\n",
            "Epoch 283/600\n",
            "1335/1335 [==============================] - 3s 2ms/step - loss: 0.0181 - val_loss: 0.1009\n",
            "Epoch 284/600\n",
            "1335/1335 [==============================] - 3s 2ms/step - loss: 0.0196 - val_loss: 0.0960\n",
            "Epoch 285/600\n",
            "1335/1335 [==============================] - 3s 2ms/step - loss: 0.0170 - val_loss: 0.0986\n",
            "Epoch 286/600\n",
            "1335/1335 [==============================] - 3s 2ms/step - loss: 0.0184 - val_loss: 0.1115\n",
            "Epoch 287/600\n",
            "1335/1335 [==============================] - 3s 2ms/step - loss: 0.0182 - val_loss: 0.1011\n",
            "Epoch 288/600\n",
            "1335/1335 [==============================] - 3s 2ms/step - loss: 0.0172 - val_loss: 0.1056\n",
            "Epoch 289/600\n",
            "1335/1335 [==============================] - 3s 2ms/step - loss: 0.0167 - val_loss: 0.0824\n",
            "Epoch 290/600\n",
            "1335/1335 [==============================] - 3s 2ms/step - loss: 0.0144 - val_loss: 0.1024\n",
            "Epoch 291/600\n",
            "1335/1335 [==============================] - 3s 2ms/step - loss: 0.0195 - val_loss: 0.0900\n",
            "Epoch 292/600\n",
            "1335/1335 [==============================] - 3s 2ms/step - loss: 0.0150 - val_loss: 0.0996\n",
            "Epoch 293/600\n",
            "1335/1335 [==============================] - 3s 2ms/step - loss: 0.0203 - val_loss: 0.0872\n",
            "Epoch 294/600\n",
            "1335/1335 [==============================] - 3s 2ms/step - loss: 0.0172 - val_loss: 0.0849\n",
            "Epoch 295/600\n",
            "1335/1335 [==============================] - 3s 2ms/step - loss: 0.0196 - val_loss: 0.0965\n",
            "Epoch 296/600\n",
            "1335/1335 [==============================] - 3s 2ms/step - loss: 0.0155 - val_loss: 0.0929\n",
            "Epoch 297/600\n",
            "1335/1335 [==============================] - 3s 2ms/step - loss: 0.0161 - val_loss: 0.0939\n",
            "Epoch 298/600\n",
            "1335/1335 [==============================] - 3s 2ms/step - loss: 0.0167 - val_loss: 0.1049\n",
            "Epoch 299/600\n",
            "1335/1335 [==============================] - 3s 2ms/step - loss: 0.0183 - val_loss: 0.0977\n",
            "Epoch 300/600\n",
            "1335/1335 [==============================] - 3s 2ms/step - loss: 0.0179 - val_loss: 0.0974\n",
            "Epoch 301/600\n",
            "1335/1335 [==============================] - 3s 2ms/step - loss: 0.0189 - val_loss: 0.0978\n",
            "Epoch 302/600\n",
            "1335/1335 [==============================] - 3s 2ms/step - loss: 0.0168 - val_loss: 0.1089\n",
            "Epoch 303/600\n",
            "1335/1335 [==============================] - 3s 2ms/step - loss: 0.0197 - val_loss: 0.0890\n",
            "Epoch 304/600\n",
            "1335/1335 [==============================] - 3s 2ms/step - loss: 0.0159 - val_loss: 0.1057\n",
            "Epoch 305/600\n",
            "1335/1335 [==============================] - 3s 2ms/step - loss: 0.0164 - val_loss: 0.0906\n",
            "Epoch 306/600\n",
            "1335/1335 [==============================] - 3s 2ms/step - loss: 0.0141 - val_loss: 0.0997\n",
            "Epoch 307/600\n",
            "1335/1335 [==============================] - 3s 2ms/step - loss: 0.0175 - val_loss: 0.0904\n",
            "Epoch 308/600\n",
            "1335/1335 [==============================] - 3s 2ms/step - loss: 0.0176 - val_loss: 0.1008\n",
            "Epoch 309/600\n",
            "1335/1335 [==============================] - 3s 2ms/step - loss: 0.0198 - val_loss: 0.0920\n",
            "Epoch 310/600\n",
            "1335/1335 [==============================] - 3s 2ms/step - loss: 0.0154 - val_loss: 0.0880\n",
            "Epoch 311/600\n",
            "1335/1335 [==============================] - 3s 2ms/step - loss: 0.0155 - val_loss: 0.0970\n",
            "Epoch 312/600\n",
            "1335/1335 [==============================] - 3s 2ms/step - loss: 0.0192 - val_loss: 0.1152\n",
            "Epoch 313/600\n",
            "1335/1335 [==============================] - 3s 2ms/step - loss: 0.0172 - val_loss: 0.1000\n",
            "Epoch 314/600\n",
            "1335/1335 [==============================] - 3s 2ms/step - loss: 0.0165 - val_loss: 0.0987\n",
            "Epoch 315/600\n",
            "1335/1335 [==============================] - 3s 2ms/step - loss: 0.0136 - val_loss: 0.1035\n",
            "Epoch 316/600\n",
            "1335/1335 [==============================] - 3s 2ms/step - loss: 0.0162 - val_loss: 0.1030\n",
            "Epoch 317/600\n",
            "1335/1335 [==============================] - 3s 2ms/step - loss: 0.0186 - val_loss: 0.0928\n",
            "Epoch 318/600\n",
            "1335/1335 [==============================] - 3s 2ms/step - loss: 0.0151 - val_loss: 0.1100\n",
            "Epoch 319/600\n",
            "1335/1335 [==============================] - 3s 2ms/step - loss: 0.0147 - val_loss: 0.1077\n",
            "Epoch 320/600\n",
            "1335/1335 [==============================] - 3s 2ms/step - loss: 0.0175 - val_loss: 0.0983\n",
            "Epoch 321/600\n",
            "1335/1335 [==============================] - 3s 2ms/step - loss: 0.0168 - val_loss: 0.1155\n",
            "Epoch 322/600\n",
            "1335/1335 [==============================] - 3s 2ms/step - loss: 0.0174 - val_loss: 0.1103\n",
            "Epoch 323/600\n",
            "1335/1335 [==============================] - 3s 2ms/step - loss: 0.0165 - val_loss: 0.0935\n",
            "Epoch 324/600\n",
            "1335/1335 [==============================] - 3s 2ms/step - loss: 0.0172 - val_loss: 0.1095\n",
            "Epoch 325/600\n",
            "1335/1335 [==============================] - 3s 2ms/step - loss: 0.0139 - val_loss: 0.1127\n",
            "Epoch 326/600\n",
            "1335/1335 [==============================] - 3s 2ms/step - loss: 0.0169 - val_loss: 0.1048\n",
            "Epoch 327/600\n",
            "1335/1335 [==============================] - 3s 2ms/step - loss: 0.0155 - val_loss: 0.1150\n",
            "Epoch 328/600\n",
            "1335/1335 [==============================] - 3s 2ms/step - loss: 0.0154 - val_loss: 0.0987\n",
            "Epoch 329/600\n",
            "1335/1335 [==============================] - 3s 2ms/step - loss: 0.0214 - val_loss: 0.0976\n",
            "Epoch 330/600\n",
            "1335/1335 [==============================] - 3s 2ms/step - loss: 0.0140 - val_loss: 0.1153\n",
            "Epoch 331/600\n",
            "1335/1335 [==============================] - 3s 2ms/step - loss: 0.0180 - val_loss: 0.1239\n",
            "Epoch 332/600\n",
            "1335/1335 [==============================] - 3s 2ms/step - loss: 0.0182 - val_loss: 0.1012\n",
            "Epoch 333/600\n",
            "1335/1335 [==============================] - 3s 2ms/step - loss: 0.0163 - val_loss: 0.1022\n",
            "Epoch 334/600\n",
            "1335/1335 [==============================] - 3s 2ms/step - loss: 0.0157 - val_loss: 0.0918\n",
            "Epoch 335/600\n",
            "1335/1335 [==============================] - 3s 2ms/step - loss: 0.0147 - val_loss: 0.0979\n",
            "Epoch 336/600\n",
            "1335/1335 [==============================] - 3s 2ms/step - loss: 0.0139 - val_loss: 0.1024\n",
            "Epoch 337/600\n",
            "1335/1335 [==============================] - 3s 2ms/step - loss: 0.0148 - val_loss: 0.1154\n",
            "Epoch 338/600\n",
            "1335/1335 [==============================] - 3s 2ms/step - loss: 0.0163 - val_loss: 0.1085\n",
            "Epoch 339/600\n",
            "1335/1335 [==============================] - 3s 2ms/step - loss: 0.0169 - val_loss: 0.1055\n",
            "Epoch 340/600\n",
            "1335/1335 [==============================] - 3s 2ms/step - loss: 0.0132 - val_loss: 0.1177\n",
            "Epoch 341/600\n",
            "1335/1335 [==============================] - 3s 2ms/step - loss: 0.0162 - val_loss: 0.0954\n",
            "Epoch 342/600\n",
            "1335/1335 [==============================] - 3s 2ms/step - loss: 0.0165 - val_loss: 0.1132\n",
            "Epoch 343/600\n",
            "1335/1335 [==============================] - 3s 2ms/step - loss: 0.0166 - val_loss: 0.0945\n",
            "Epoch 344/600\n",
            "1335/1335 [==============================] - 3s 2ms/step - loss: 0.0144 - val_loss: 0.1063\n",
            "Epoch 345/600\n",
            "1335/1335 [==============================] - 3s 2ms/step - loss: 0.0141 - val_loss: 0.1067\n",
            "Epoch 346/600\n",
            "1335/1335 [==============================] - 3s 2ms/step - loss: 0.0182 - val_loss: 0.1007\n",
            "Epoch 347/600\n",
            "1335/1335 [==============================] - 3s 2ms/step - loss: 0.0124 - val_loss: 0.1046\n",
            "Epoch 348/600\n",
            "1335/1335 [==============================] - 3s 2ms/step - loss: 0.0149 - val_loss: 0.1202\n",
            "Epoch 349/600\n",
            "1335/1335 [==============================] - 3s 2ms/step - loss: 0.0134 - val_loss: 0.1024\n",
            "Epoch 350/600\n",
            "1335/1335 [==============================] - 3s 2ms/step - loss: 0.0206 - val_loss: 0.0855\n",
            "Epoch 351/600\n",
            "1335/1335 [==============================] - 3s 2ms/step - loss: 0.0152 - val_loss: 0.0923\n",
            "Epoch 352/600\n",
            "1335/1335 [==============================] - 3s 2ms/step - loss: 0.0142 - val_loss: 0.0935\n",
            "Epoch 353/600\n",
            "1335/1335 [==============================] - 3s 2ms/step - loss: 0.0132 - val_loss: 0.1011\n",
            "Epoch 354/600\n",
            "1335/1335 [==============================] - 3s 2ms/step - loss: 0.0173 - val_loss: 0.1183\n",
            "Epoch 355/600\n",
            "1335/1335 [==============================] - 3s 2ms/step - loss: 0.0147 - val_loss: 0.0996\n",
            "Epoch 356/600\n",
            "1335/1335 [==============================] - 3s 2ms/step - loss: 0.0146 - val_loss: 0.1047\n",
            "Epoch 357/600\n",
            "1335/1335 [==============================] - 3s 2ms/step - loss: 0.0145 - val_loss: 0.1308\n",
            "Epoch 358/600\n",
            "1335/1335 [==============================] - 3s 2ms/step - loss: 0.0191 - val_loss: 0.1089\n",
            "Epoch 359/600\n",
            "1335/1335 [==============================] - 3s 2ms/step - loss: 0.0140 - val_loss: 0.0874\n",
            "Epoch 360/600\n",
            "1335/1335 [==============================] - 3s 2ms/step - loss: 0.0153 - val_loss: 0.0861\n",
            "Epoch 361/600\n",
            "1335/1335 [==============================] - 3s 2ms/step - loss: 0.0140 - val_loss: 0.0990\n",
            "Epoch 362/600\n",
            "1335/1335 [==============================] - 3s 2ms/step - loss: 0.0131 - val_loss: 0.1031\n",
            "Epoch 363/600\n",
            "1335/1335 [==============================] - 3s 2ms/step - loss: 0.0178 - val_loss: 0.0954\n",
            "Epoch 364/600\n",
            "1335/1335 [==============================] - 3s 2ms/step - loss: 0.0139 - val_loss: 0.1092\n",
            "Epoch 365/600\n",
            "1335/1335 [==============================] - 3s 2ms/step - loss: 0.0165 - val_loss: 0.1020\n",
            "Epoch 366/600\n",
            "1335/1335 [==============================] - 3s 2ms/step - loss: 0.0121 - val_loss: 0.0946\n",
            "Epoch 367/600\n",
            "1335/1335 [==============================] - 3s 2ms/step - loss: 0.0138 - val_loss: 0.1040\n",
            "Epoch 368/600\n",
            "1335/1335 [==============================] - 3s 2ms/step - loss: 0.0171 - val_loss: 0.0873\n",
            "Epoch 369/600\n",
            "1335/1335 [==============================] - 3s 2ms/step - loss: 0.0139 - val_loss: 0.0939\n",
            "Epoch 370/600\n",
            "1335/1335 [==============================] - 3s 2ms/step - loss: 0.0155 - val_loss: 0.0992\n",
            "Epoch 371/600\n",
            "1335/1335 [==============================] - 3s 2ms/step - loss: 0.0164 - val_loss: 0.1061\n",
            "Epoch 372/600\n",
            "1335/1335 [==============================] - 3s 2ms/step - loss: 0.0155 - val_loss: 0.1117\n",
            "Epoch 373/600\n",
            "1335/1335 [==============================] - 3s 2ms/step - loss: 0.0162 - val_loss: 0.0967\n",
            "Epoch 374/600\n",
            "1335/1335 [==============================] - 3s 2ms/step - loss: 0.0122 - val_loss: 0.1051\n",
            "Epoch 375/600\n",
            "1335/1335 [==============================] - 3s 2ms/step - loss: 0.0130 - val_loss: 0.1001\n",
            "Epoch 376/600\n",
            "1335/1335 [==============================] - 3s 2ms/step - loss: 0.0135 - val_loss: 0.1109\n",
            "Epoch 377/600\n",
            "1335/1335 [==============================] - 3s 2ms/step - loss: 0.0179 - val_loss: 0.1030\n",
            "Epoch 378/600\n",
            "1335/1335 [==============================] - 3s 2ms/step - loss: 0.0142 - val_loss: 0.1052\n",
            "Epoch 379/600\n",
            "1335/1335 [==============================] - 3s 2ms/step - loss: 0.0152 - val_loss: 0.1121\n",
            "Epoch 380/600\n",
            "1335/1335 [==============================] - 3s 2ms/step - loss: 0.0160 - val_loss: 0.0952\n",
            "Epoch 381/600\n",
            "1335/1335 [==============================] - 3s 2ms/step - loss: 0.0116 - val_loss: 0.1020\n",
            "Epoch 382/600\n",
            "1335/1335 [==============================] - 3s 2ms/step - loss: 0.0142 - val_loss: 0.0894\n",
            "Epoch 383/600\n",
            "1335/1335 [==============================] - 3s 2ms/step - loss: 0.0133 - val_loss: 0.1084\n",
            "Epoch 384/600\n",
            "1335/1335 [==============================] - 3s 2ms/step - loss: 0.0126 - val_loss: 0.1035\n",
            "Epoch 385/600\n",
            "1335/1335 [==============================] - 3s 2ms/step - loss: 0.0154 - val_loss: 0.1069\n",
            "Epoch 386/600\n",
            "1335/1335 [==============================] - 3s 2ms/step - loss: 0.0152 - val_loss: 0.1070\n",
            "Epoch 387/600\n",
            "1335/1335 [==============================] - 3s 2ms/step - loss: 0.0155 - val_loss: 0.1244\n",
            "Epoch 388/600\n",
            "1335/1335 [==============================] - 3s 2ms/step - loss: 0.0143 - val_loss: 0.1047\n",
            "Epoch 389/600\n",
            "1335/1335 [==============================] - 3s 2ms/step - loss: 0.0118 - val_loss: 0.1053\n",
            "Epoch 390/600\n",
            "1335/1335 [==============================] - 3s 2ms/step - loss: 0.0141 - val_loss: 0.1045\n",
            "Epoch 391/600\n",
            "1335/1335 [==============================] - 3s 2ms/step - loss: 0.0148 - val_loss: 0.1291\n",
            "Epoch 392/600\n",
            "1335/1335 [==============================] - 3s 2ms/step - loss: 0.0207 - val_loss: 0.1083\n",
            "Epoch 393/600\n",
            "1335/1335 [==============================] - 3s 2ms/step - loss: 0.0129 - val_loss: 0.0950\n",
            "Epoch 394/600\n",
            "1335/1335 [==============================] - 3s 2ms/step - loss: 0.0114 - val_loss: 0.0946\n",
            "Epoch 395/600\n",
            "1335/1335 [==============================] - 3s 2ms/step - loss: 0.0164 - val_loss: 0.1165\n",
            "Epoch 396/600\n",
            "1335/1335 [==============================] - 3s 2ms/step - loss: 0.0143 - val_loss: 0.1021\n",
            "Epoch 397/600\n",
            "1335/1335 [==============================] - 3s 2ms/step - loss: 0.0173 - val_loss: 0.1124\n",
            "Epoch 398/600\n",
            "1335/1335 [==============================] - 3s 2ms/step - loss: 0.0119 - val_loss: 0.1286\n",
            "Epoch 399/600\n",
            "1335/1335 [==============================] - 3s 2ms/step - loss: 0.0135 - val_loss: 0.1063\n",
            "Epoch 400/600\n",
            "1335/1335 [==============================] - 3s 2ms/step - loss: 0.0145 - val_loss: 0.1004\n",
            "Epoch 401/600\n",
            "1335/1335 [==============================] - 3s 2ms/step - loss: 0.0114 - val_loss: 0.1064\n",
            "Epoch 402/600\n",
            "1335/1335 [==============================] - 3s 2ms/step - loss: 0.0148 - val_loss: 0.1106\n",
            "Epoch 403/600\n",
            "1335/1335 [==============================] - 3s 2ms/step - loss: 0.0139 - val_loss: 0.0943\n",
            "Epoch 404/600\n",
            "1335/1335 [==============================] - 3s 2ms/step - loss: 0.0151 - val_loss: 0.0946\n",
            "Epoch 405/600\n",
            "1335/1335 [==============================] - 3s 2ms/step - loss: 0.0123 - val_loss: 0.1227\n",
            "Epoch 406/600\n",
            "1335/1335 [==============================] - 3s 2ms/step - loss: 0.0143 - val_loss: 0.1067\n",
            "Epoch 407/600\n",
            "1335/1335 [==============================] - 3s 2ms/step - loss: 0.0151 - val_loss: 0.0990\n",
            "Epoch 408/600\n",
            "1335/1335 [==============================] - 3s 2ms/step - loss: 0.0123 - val_loss: 0.1121\n",
            "Epoch 409/600\n",
            "1335/1335 [==============================] - 3s 2ms/step - loss: 0.0156 - val_loss: 0.1140\n",
            "Epoch 410/600\n",
            "1335/1335 [==============================] - 3s 2ms/step - loss: 0.0131 - val_loss: 0.1184\n",
            "Epoch 411/600\n",
            "1335/1335 [==============================] - 3s 2ms/step - loss: 0.0140 - val_loss: 0.1014\n",
            "Epoch 412/600\n",
            "1335/1335 [==============================] - 3s 2ms/step - loss: 0.0116 - val_loss: 0.0973\n",
            "Epoch 413/600\n",
            "1335/1335 [==============================] - 3s 2ms/step - loss: 0.0140 - val_loss: 0.0952\n",
            "Epoch 414/600\n",
            "1335/1335 [==============================] - 3s 2ms/step - loss: 0.0157 - val_loss: 0.1135\n",
            "Epoch 415/600\n",
            "1335/1335 [==============================] - 3s 2ms/step - loss: 0.0139 - val_loss: 0.1091\n",
            "Epoch 416/600\n",
            "1335/1335 [==============================] - 3s 2ms/step - loss: 0.0130 - val_loss: 0.1142\n",
            "Epoch 417/600\n",
            "1335/1335 [==============================] - 3s 2ms/step - loss: 0.0140 - val_loss: 0.1224\n",
            "Epoch 418/600\n",
            "1335/1335 [==============================] - 3s 2ms/step - loss: 0.0109 - val_loss: 0.1214\n",
            "Epoch 419/600\n",
            "1335/1335 [==============================] - 3s 2ms/step - loss: 0.0188 - val_loss: 0.1037\n",
            "Epoch 420/600\n",
            "1335/1335 [==============================] - 3s 2ms/step - loss: 0.0137 - val_loss: 0.1212\n",
            "Epoch 421/600\n",
            "1335/1335 [==============================] - 3s 2ms/step - loss: 0.0146 - val_loss: 0.1083\n",
            "Epoch 422/600\n",
            "1335/1335 [==============================] - 3s 2ms/step - loss: 0.0159 - val_loss: 0.1133\n",
            "Epoch 423/600\n",
            "1335/1335 [==============================] - 3s 2ms/step - loss: 0.0140 - val_loss: 0.1236\n",
            "Epoch 424/600\n",
            "1335/1335 [==============================] - 3s 2ms/step - loss: 0.0129 - val_loss: 0.0971\n",
            "Epoch 425/600\n",
            "1335/1335 [==============================] - 3s 2ms/step - loss: 0.0116 - val_loss: 0.1338\n",
            "Epoch 426/600\n",
            "1335/1335 [==============================] - 3s 2ms/step - loss: 0.0154 - val_loss: 0.1053\n",
            "Epoch 427/600\n",
            "1335/1335 [==============================] - 3s 2ms/step - loss: 0.0115 - val_loss: 0.1270\n",
            "Epoch 428/600\n",
            "1335/1335 [==============================] - 3s 2ms/step - loss: 0.0130 - val_loss: 0.0981\n",
            "Epoch 429/600\n",
            "1335/1335 [==============================] - 3s 2ms/step - loss: 0.0165 - val_loss: 0.1226\n",
            "Epoch 430/600\n",
            "1335/1335 [==============================] - 3s 2ms/step - loss: 0.0144 - val_loss: 0.1129\n",
            "Epoch 431/600\n",
            "1335/1335 [==============================] - 3s 2ms/step - loss: 0.0131 - val_loss: 0.1297\n",
            "Epoch 432/600\n",
            "1335/1335 [==============================] - 3s 2ms/step - loss: 0.0130 - val_loss: 0.1212\n",
            "Epoch 433/600\n",
            "1335/1335 [==============================] - 3s 2ms/step - loss: 0.0155 - val_loss: 0.1253\n",
            "Epoch 434/600\n",
            "1335/1335 [==============================] - 3s 2ms/step - loss: 0.0125 - val_loss: 0.1079\n",
            "Epoch 435/600\n",
            "1335/1335 [==============================] - 3s 2ms/step - loss: 0.0140 - val_loss: 0.1229\n",
            "Epoch 436/600\n",
            "1335/1335 [==============================] - 3s 2ms/step - loss: 0.0149 - val_loss: 0.1204\n",
            "Epoch 437/600\n",
            "1335/1335 [==============================] - 3s 2ms/step - loss: 0.0120 - val_loss: 0.1263\n",
            "Epoch 438/600\n",
            "1335/1335 [==============================] - 3s 2ms/step - loss: 0.0123 - val_loss: 0.1078\n",
            "Epoch 439/600\n",
            "1335/1335 [==============================] - 3s 2ms/step - loss: 0.0120 - val_loss: 0.1222\n",
            "Epoch 440/600\n",
            "1335/1335 [==============================] - 3s 2ms/step - loss: 0.0129 - val_loss: 0.1330\n",
            "Epoch 441/600\n",
            "1335/1335 [==============================] - 3s 2ms/step - loss: 0.0138 - val_loss: 0.1378\n",
            "Epoch 442/600\n",
            "1335/1335 [==============================] - 3s 2ms/step - loss: 0.0133 - val_loss: 0.1371\n",
            "Epoch 443/600\n",
            "1335/1335 [==============================] - 3s 2ms/step - loss: 0.0129 - val_loss: 0.1574\n",
            "Epoch 444/600\n",
            "1335/1335 [==============================] - 3s 2ms/step - loss: 0.0158 - val_loss: 0.1388\n",
            "Epoch 445/600\n",
            "1335/1335 [==============================] - 3s 2ms/step - loss: 0.0127 - val_loss: 0.1366\n",
            "Epoch 446/600\n",
            "1335/1335 [==============================] - 3s 2ms/step - loss: 0.0183 - val_loss: 0.1258\n",
            "Epoch 447/600\n",
            "1335/1335 [==============================] - 3s 2ms/step - loss: 0.0118 - val_loss: 0.1294\n",
            "Epoch 448/600\n",
            "1335/1335 [==============================] - 3s 2ms/step - loss: 0.0139 - val_loss: 0.1615\n",
            "Epoch 449/600\n",
            "1335/1335 [==============================] - 3s 2ms/step - loss: 0.0130 - val_loss: 0.1300\n",
            "Epoch 450/600\n",
            "1335/1335 [==============================] - 3s 2ms/step - loss: 0.0142 - val_loss: 0.1155\n",
            "Epoch 451/600\n",
            "1335/1335 [==============================] - 3s 2ms/step - loss: 0.0157 - val_loss: 0.1237\n",
            "Epoch 452/600\n",
            "1335/1335 [==============================] - 3s 2ms/step - loss: 0.0122 - val_loss: 0.1193\n",
            "Epoch 453/600\n",
            "1335/1335 [==============================] - 3s 2ms/step - loss: 0.0128 - val_loss: 0.1243\n",
            "Epoch 454/600\n",
            "1335/1335 [==============================] - 3s 2ms/step - loss: 0.0117 - val_loss: 0.1100\n",
            "Epoch 455/600\n",
            "1335/1335 [==============================] - 3s 2ms/step - loss: 0.0116 - val_loss: 0.1142\n",
            "Epoch 456/600\n",
            "1335/1335 [==============================] - 3s 2ms/step - loss: 0.0107 - val_loss: 0.1251\n",
            "Epoch 457/600\n",
            "1335/1335 [==============================] - 3s 2ms/step - loss: 0.0134 - val_loss: 0.1275\n",
            "Epoch 458/600\n",
            "1335/1335 [==============================] - 3s 2ms/step - loss: 0.0184 - val_loss: 0.1208\n",
            "Epoch 459/600\n",
            "1335/1335 [==============================] - 3s 2ms/step - loss: 0.0108 - val_loss: 0.1191\n",
            "Epoch 460/600\n",
            "1335/1335 [==============================] - 3s 2ms/step - loss: 0.0127 - val_loss: 0.1238\n",
            "Epoch 461/600\n",
            "1335/1335 [==============================] - 3s 2ms/step - loss: 0.0125 - val_loss: 0.1107\n",
            "Epoch 462/600\n",
            "1335/1335 [==============================] - 3s 2ms/step - loss: 0.0131 - val_loss: 0.1372\n",
            "Epoch 463/600\n",
            "1335/1335 [==============================] - 3s 2ms/step - loss: 0.0125 - val_loss: 0.1355\n",
            "Epoch 464/600\n",
            "1335/1335 [==============================] - 3s 2ms/step - loss: 0.0140 - val_loss: 0.1158\n",
            "Epoch 465/600\n",
            "1335/1335 [==============================] - 3s 2ms/step - loss: 0.0113 - val_loss: 0.1401\n",
            "Epoch 466/600\n",
            "1335/1335 [==============================] - 3s 2ms/step - loss: 0.0182 - val_loss: 0.1248\n",
            "Epoch 467/600\n",
            "1335/1335 [==============================] - 3s 2ms/step - loss: 0.0108 - val_loss: 0.1215\n",
            "Epoch 468/600\n",
            "1335/1335 [==============================] - 3s 2ms/step - loss: 0.0131 - val_loss: 0.1364\n",
            "Epoch 469/600\n",
            "1335/1335 [==============================] - 3s 2ms/step - loss: 0.0137 - val_loss: 0.1098\n",
            "Epoch 470/600\n",
            "1335/1335 [==============================] - 3s 2ms/step - loss: 0.0163 - val_loss: 0.1523\n",
            "Epoch 471/600\n",
            "1335/1335 [==============================] - 3s 2ms/step - loss: 0.0117 - val_loss: 0.1425\n",
            "Epoch 472/600\n",
            "1335/1335 [==============================] - 3s 2ms/step - loss: 0.0154 - val_loss: 0.1377\n",
            "Epoch 473/600\n",
            "1335/1335 [==============================] - 3s 2ms/step - loss: 0.0125 - val_loss: 0.1142\n",
            "Epoch 474/600\n",
            "1335/1335 [==============================] - 3s 2ms/step - loss: 0.0110 - val_loss: 0.1518\n",
            "Epoch 475/600\n",
            "1335/1335 [==============================] - 3s 2ms/step - loss: 0.0123 - val_loss: 0.1269\n",
            "Epoch 476/600\n",
            "1335/1335 [==============================] - 3s 2ms/step - loss: 0.0119 - val_loss: 0.1310\n",
            "Epoch 477/600\n",
            "1335/1335 [==============================] - 3s 2ms/step - loss: 0.0113 - val_loss: 0.1626\n",
            "Epoch 478/600\n",
            "1335/1335 [==============================] - 3s 2ms/step - loss: 0.0160 - val_loss: 0.1231\n",
            "Epoch 479/600\n",
            "1335/1335 [==============================] - 3s 2ms/step - loss: 0.0148 - val_loss: 0.1146\n",
            "Epoch 480/600\n",
            "1335/1335 [==============================] - 3s 2ms/step - loss: 0.0121 - val_loss: 0.1200\n",
            "Epoch 481/600\n",
            "1335/1335 [==============================] - 3s 2ms/step - loss: 0.0117 - val_loss: 0.1271\n",
            "Epoch 482/600\n",
            "1335/1335 [==============================] - 3s 2ms/step - loss: 0.0113 - val_loss: 0.1270\n",
            "Epoch 483/600\n",
            "1335/1335 [==============================] - 3s 2ms/step - loss: 0.0144 - val_loss: 0.1212\n",
            "Epoch 484/600\n",
            "1335/1335 [==============================] - 3s 2ms/step - loss: 0.0115 - val_loss: 0.1215\n",
            "Epoch 485/600\n",
            "1335/1335 [==============================] - 3s 2ms/step - loss: 0.0114 - val_loss: 0.1253\n",
            "Epoch 486/600\n",
            "1335/1335 [==============================] - 3s 2ms/step - loss: 0.0121 - val_loss: 0.1362\n",
            "Epoch 487/600\n",
            "1335/1335 [==============================] - 3s 2ms/step - loss: 0.0158 - val_loss: 0.0953\n",
            "Epoch 488/600\n",
            "1335/1335 [==============================] - 3s 2ms/step - loss: 0.0109 - val_loss: 0.1192\n",
            "Epoch 489/600\n",
            "1335/1335 [==============================] - 3s 2ms/step - loss: 0.0123 - val_loss: 0.1215\n",
            "Epoch 490/600\n",
            "1335/1335 [==============================] - 3s 2ms/step - loss: 0.0150 - val_loss: 0.1206\n",
            "Epoch 491/600\n",
            "1335/1335 [==============================] - 3s 2ms/step - loss: 0.0121 - val_loss: 0.1395\n",
            "Epoch 492/600\n",
            "1335/1335 [==============================] - 3s 2ms/step - loss: 0.0124 - val_loss: 0.1422\n",
            "Epoch 493/600\n",
            "1335/1335 [==============================] - 3s 2ms/step - loss: 0.0144 - val_loss: 0.1252\n",
            "Epoch 494/600\n",
            "1335/1335 [==============================] - 3s 2ms/step - loss: 0.0154 - val_loss: 0.1413\n",
            "Epoch 495/600\n",
            "1335/1335 [==============================] - 3s 2ms/step - loss: 0.0081 - val_loss: 0.1413\n",
            "Epoch 496/600\n",
            "1335/1335 [==============================] - 3s 2ms/step - loss: 0.0110 - val_loss: 0.1412\n",
            "Epoch 497/600\n",
            "1335/1335 [==============================] - 3s 2ms/step - loss: 0.0112 - val_loss: 0.1509\n",
            "Epoch 498/600\n",
            "1335/1335 [==============================] - 3s 2ms/step - loss: 0.0125 - val_loss: 0.1340\n",
            "Epoch 499/600\n",
            "1335/1335 [==============================] - 3s 2ms/step - loss: 0.0120 - val_loss: 0.1615\n",
            "Epoch 500/600\n",
            "1335/1335 [==============================] - 3s 2ms/step - loss: 0.0108 - val_loss: 0.1235\n",
            "Epoch 501/600\n",
            "1335/1335 [==============================] - 3s 2ms/step - loss: 0.0119 - val_loss: 0.1240\n",
            "Epoch 502/600\n",
            "1335/1335 [==============================] - 3s 2ms/step - loss: 0.0119 - val_loss: 0.1386\n",
            "Epoch 503/600\n",
            "1335/1335 [==============================] - 3s 2ms/step - loss: 0.0147 - val_loss: 0.1275\n",
            "Epoch 504/600\n",
            "1335/1335 [==============================] - 3s 2ms/step - loss: 0.0156 - val_loss: 0.1488\n",
            "Epoch 505/600\n",
            "1335/1335 [==============================] - 3s 2ms/step - loss: 0.0128 - val_loss: 0.1114\n",
            "Epoch 506/600\n",
            "1335/1335 [==============================] - 3s 2ms/step - loss: 0.0127 - val_loss: 0.1222\n",
            "Epoch 507/600\n",
            "1335/1335 [==============================] - 3s 2ms/step - loss: 0.0116 - val_loss: 0.1204\n",
            "Epoch 508/600\n",
            "1335/1335 [==============================] - 3s 2ms/step - loss: 0.0134 - val_loss: 0.1041\n",
            "Epoch 509/600\n",
            "1335/1335 [==============================] - 3s 2ms/step - loss: 0.0159 - val_loss: 0.1227\n",
            "Epoch 510/600\n",
            "1335/1335 [==============================] - 3s 2ms/step - loss: 0.0092 - val_loss: 0.1368\n",
            "Epoch 511/600\n",
            "1335/1335 [==============================] - 3s 2ms/step - loss: 0.0136 - val_loss: 0.1254\n",
            "Epoch 512/600\n",
            "1335/1335 [==============================] - 3s 2ms/step - loss: 0.0095 - val_loss: 0.1536\n",
            "Epoch 513/600\n",
            "1335/1335 [==============================] - 3s 2ms/step - loss: 0.0153 - val_loss: 0.1342\n",
            "Epoch 514/600\n",
            "1335/1335 [==============================] - 3s 2ms/step - loss: 0.0102 - val_loss: 0.1250\n",
            "Epoch 515/600\n",
            "1335/1335 [==============================] - 3s 2ms/step - loss: 0.0111 - val_loss: 0.1522\n",
            "Epoch 516/600\n",
            "1335/1335 [==============================] - 3s 2ms/step - loss: 0.0124 - val_loss: 0.1353\n",
            "Epoch 517/600\n",
            "1335/1335 [==============================] - 3s 2ms/step - loss: 0.0131 - val_loss: 0.1243\n",
            "Epoch 518/600\n",
            "1335/1335 [==============================] - 3s 2ms/step - loss: 0.0103 - val_loss: 0.1404\n",
            "Epoch 519/600\n",
            "1335/1335 [==============================] - 3s 2ms/step - loss: 0.0124 - val_loss: 0.1349\n",
            "Epoch 520/600\n",
            "1335/1335 [==============================] - 3s 2ms/step - loss: 0.0127 - val_loss: 0.1306\n",
            "Epoch 521/600\n",
            "1335/1335 [==============================] - 3s 2ms/step - loss: 0.0093 - val_loss: 0.1244\n",
            "Epoch 522/600\n",
            "1335/1335 [==============================] - 3s 2ms/step - loss: 0.0099 - val_loss: 0.1391\n",
            "Epoch 523/600\n",
            "1335/1335 [==============================] - 3s 2ms/step - loss: 0.0142 - val_loss: 0.1306\n",
            "Epoch 524/600\n",
            "1335/1335 [==============================] - 3s 2ms/step - loss: 0.0130 - val_loss: 0.1290\n",
            "Epoch 525/600\n",
            "1335/1335 [==============================] - 3s 2ms/step - loss: 0.0123 - val_loss: 0.1375\n",
            "Epoch 526/600\n",
            "1335/1335 [==============================] - 3s 2ms/step - loss: 0.0125 - val_loss: 0.1317\n",
            "Epoch 527/600\n",
            "1335/1335 [==============================] - 3s 2ms/step - loss: 0.0139 - val_loss: 0.1322\n",
            "Epoch 528/600\n",
            "1335/1335 [==============================] - 3s 2ms/step - loss: 0.0156 - val_loss: 0.1149\n",
            "Epoch 529/600\n",
            "1335/1335 [==============================] - 3s 2ms/step - loss: 0.0085 - val_loss: 0.1405\n",
            "Epoch 530/600\n",
            "1335/1335 [==============================] - 3s 2ms/step - loss: 0.0108 - val_loss: 0.1452\n",
            "Epoch 531/600\n",
            "1335/1335 [==============================] - 3s 2ms/step - loss: 0.0154 - val_loss: 0.1261\n",
            "Epoch 532/600\n",
            "1335/1335 [==============================] - 3s 2ms/step - loss: 0.0116 - val_loss: 0.1267\n",
            "Epoch 533/600\n",
            "1335/1335 [==============================] - 3s 2ms/step - loss: 0.0144 - val_loss: 0.1448\n",
            "Epoch 534/600\n",
            "1335/1335 [==============================] - 3s 2ms/step - loss: 0.0108 - val_loss: 0.1315\n",
            "Epoch 535/600\n",
            "1335/1335 [==============================] - 3s 2ms/step - loss: 0.0138 - val_loss: 0.1309\n",
            "Epoch 536/600\n",
            "1335/1335 [==============================] - 3s 2ms/step - loss: 0.0117 - val_loss: 0.1586\n",
            "Epoch 537/600\n",
            "1335/1335 [==============================] - 3s 2ms/step - loss: 0.0108 - val_loss: 0.1079\n",
            "Epoch 538/600\n",
            "1335/1335 [==============================] - 3s 2ms/step - loss: 0.0144 - val_loss: 0.1090\n",
            "Epoch 539/600\n",
            "1335/1335 [==============================] - 3s 2ms/step - loss: 0.0099 - val_loss: 0.1233\n",
            "Epoch 540/600\n",
            "1335/1335 [==============================] - 3s 2ms/step - loss: 0.0122 - val_loss: 0.1359\n",
            "Epoch 541/600\n",
            "1335/1335 [==============================] - 3s 2ms/step - loss: 0.0097 - val_loss: 0.1202\n",
            "Epoch 542/600\n",
            "1335/1335 [==============================] - 3s 2ms/step - loss: 0.0104 - val_loss: 0.1277\n",
            "Epoch 543/600\n",
            "1335/1335 [==============================] - 3s 2ms/step - loss: 0.0112 - val_loss: 0.1320\n",
            "Epoch 544/600\n",
            "1335/1335 [==============================] - 3s 2ms/step - loss: 0.0118 - val_loss: 0.1217\n",
            "Epoch 545/600\n",
            "1335/1335 [==============================] - 3s 2ms/step - loss: 0.0153 - val_loss: 0.1112\n",
            "Epoch 546/600\n",
            "1335/1335 [==============================] - 3s 2ms/step - loss: 0.0105 - val_loss: 0.1366\n",
            "Epoch 547/600\n",
            "1335/1335 [==============================] - 3s 2ms/step - loss: 0.0104 - val_loss: 0.1249\n",
            "Epoch 548/600\n",
            "1335/1335 [==============================] - 3s 2ms/step - loss: 0.0118 - val_loss: 0.1267\n",
            "Epoch 549/600\n",
            "1335/1335 [==============================] - 3s 2ms/step - loss: 0.0131 - val_loss: 0.1112\n",
            "Epoch 550/600\n",
            "1335/1335 [==============================] - 3s 2ms/step - loss: 0.0133 - val_loss: 0.1166\n",
            "Epoch 551/600\n",
            "1335/1335 [==============================] - 3s 2ms/step - loss: 0.0097 - val_loss: 0.1147\n",
            "Epoch 552/600\n",
            "1335/1335 [==============================] - 3s 2ms/step - loss: 0.0090 - val_loss: 0.1178\n",
            "Epoch 553/600\n",
            "1335/1335 [==============================] - 3s 2ms/step - loss: 0.0129 - val_loss: 0.1413\n",
            "Epoch 554/600\n",
            "1335/1335 [==============================] - 3s 2ms/step - loss: 0.0127 - val_loss: 0.1205\n",
            "Epoch 555/600\n",
            "1335/1335 [==============================] - 3s 2ms/step - loss: 0.0107 - val_loss: 0.1382\n",
            "Epoch 556/600\n",
            "1335/1335 [==============================] - 3s 2ms/step - loss: 0.0112 - val_loss: 0.1622\n",
            "Epoch 557/600\n",
            "1335/1335 [==============================] - 3s 2ms/step - loss: 0.0117 - val_loss: 0.1195\n",
            "Epoch 558/600\n",
            "1335/1335 [==============================] - 3s 2ms/step - loss: 0.0117 - val_loss: 0.1327\n",
            "Epoch 559/600\n",
            "1335/1335 [==============================] - 3s 2ms/step - loss: 0.0110 - val_loss: 0.1306\n",
            "Epoch 560/600\n",
            "1335/1335 [==============================] - 3s 2ms/step - loss: 0.0107 - val_loss: 0.1292\n",
            "Epoch 561/600\n",
            "1335/1335 [==============================] - 3s 2ms/step - loss: 0.0107 - val_loss: 0.1474\n",
            "Epoch 562/600\n",
            "1335/1335 [==============================] - 3s 2ms/step - loss: 0.0111 - val_loss: 0.1193\n",
            "Epoch 563/600\n",
            "1335/1335 [==============================] - 3s 3ms/step - loss: 0.0127 - val_loss: 0.1292\n",
            "Epoch 564/600\n",
            "1335/1335 [==============================] - 3s 3ms/step - loss: 0.0118 - val_loss: 0.1504\n",
            "Epoch 565/600\n",
            "1335/1335 [==============================] - 3s 2ms/step - loss: 0.0103 - val_loss: 0.1566\n",
            "Epoch 566/600\n",
            "1335/1335 [==============================] - 3s 2ms/step - loss: 0.0125 - val_loss: 0.1371\n",
            "Epoch 567/600\n",
            "1335/1335 [==============================] - 3s 3ms/step - loss: 0.0113 - val_loss: 0.1603\n",
            "Epoch 568/600\n",
            "1335/1335 [==============================] - 4s 3ms/step - loss: 0.0102 - val_loss: 0.1530\n",
            "Epoch 569/600\n",
            "1335/1335 [==============================] - 3s 2ms/step - loss: 0.0111 - val_loss: 0.1343\n",
            "Epoch 570/600\n",
            "1335/1335 [==============================] - 3s 2ms/step - loss: 0.0099 - val_loss: 0.1435\n",
            "Epoch 571/600\n",
            "1335/1335 [==============================] - 3s 2ms/step - loss: 0.0134 - val_loss: 0.1327\n",
            "Epoch 572/600\n",
            "1335/1335 [==============================] - 3s 2ms/step - loss: 0.0111 - val_loss: 0.1678\n",
            "Epoch 573/600\n",
            "1335/1335 [==============================] - 3s 2ms/step - loss: 0.0115 - val_loss: 0.1413\n",
            "Epoch 574/600\n",
            "1335/1335 [==============================] - 3s 2ms/step - loss: 0.0150 - val_loss: 0.1309\n",
            "Epoch 575/600\n",
            "1335/1335 [==============================] - 3s 2ms/step - loss: 0.0106 - val_loss: 0.1328\n",
            "Epoch 576/600\n",
            "1335/1335 [==============================] - 3s 2ms/step - loss: 0.0112 - val_loss: 0.1500\n",
            "Epoch 577/600\n",
            "1335/1335 [==============================] - 3s 2ms/step - loss: 0.0087 - val_loss: 0.1307\n",
            "Epoch 578/600\n",
            "1335/1335 [==============================] - 3s 2ms/step - loss: 0.0132 - val_loss: 0.1662\n",
            "Epoch 579/600\n",
            "1335/1335 [==============================] - 3s 2ms/step - loss: 0.0109 - val_loss: 0.1661\n",
            "Epoch 580/600\n",
            "1335/1335 [==============================] - 3s 2ms/step - loss: 0.0137 - val_loss: 0.1276\n",
            "Epoch 581/600\n",
            "1335/1335 [==============================] - 3s 2ms/step - loss: 0.0097 - val_loss: 0.1442\n",
            "Epoch 582/600\n",
            "1335/1335 [==============================] - 3s 2ms/step - loss: 0.0149 - val_loss: 0.1370\n",
            "Epoch 583/600\n",
            "1335/1335 [==============================] - 3s 2ms/step - loss: 0.0115 - val_loss: 0.1323\n",
            "Epoch 584/600\n",
            "1335/1335 [==============================] - 3s 2ms/step - loss: 0.0123 - val_loss: 0.1508\n",
            "Epoch 585/600\n",
            "1335/1335 [==============================] - 3s 2ms/step - loss: 0.0097 - val_loss: 0.1281\n",
            "Epoch 586/600\n",
            "1335/1335 [==============================] - 3s 2ms/step - loss: 0.0093 - val_loss: 0.1532\n",
            "Epoch 587/600\n",
            "1335/1335 [==============================] - 3s 2ms/step - loss: 0.0112 - val_loss: 0.1555\n",
            "Epoch 588/600\n",
            "1335/1335 [==============================] - 3s 2ms/step - loss: 0.0115 - val_loss: 0.1446\n",
            "Epoch 589/600\n",
            "1335/1335 [==============================] - 3s 3ms/step - loss: 0.0129 - val_loss: 0.1386\n",
            "Epoch 590/600\n",
            "1335/1335 [==============================] - 4s 3ms/step - loss: 0.0105 - val_loss: 0.1476\n",
            "Epoch 591/600\n",
            "1335/1335 [==============================] - 4s 3ms/step - loss: 0.0121 - val_loss: 0.1343\n",
            "Epoch 592/600\n",
            "1335/1335 [==============================] - 4s 3ms/step - loss: 0.0080 - val_loss: 0.1264\n",
            "Epoch 593/600\n",
            "1335/1335 [==============================] - 4s 3ms/step - loss: 0.0101 - val_loss: 0.1679\n",
            "Epoch 594/600\n",
            "1335/1335 [==============================] - 3s 3ms/step - loss: 0.0118 - val_loss: 0.1455\n",
            "Epoch 595/600\n",
            "1335/1335 [==============================] - 3s 3ms/step - loss: 0.0105 - val_loss: 0.1100\n",
            "Epoch 596/600\n",
            "1335/1335 [==============================] - 3s 2ms/step - loss: 0.0113 - val_loss: 0.1410\n",
            "Epoch 597/600\n",
            "1335/1335 [==============================] - 3s 2ms/step - loss: 0.0099 - val_loss: 0.1530\n",
            "Epoch 598/600\n",
            "1335/1335 [==============================] - 3s 3ms/step - loss: 0.0085 - val_loss: 0.1352\n",
            "Epoch 599/600\n",
            "1335/1335 [==============================] - 3s 3ms/step - loss: 0.0159 - val_loss: 0.1236\n",
            "Epoch 600/600\n",
            "1335/1335 [==============================] - 3s 3ms/step - loss: 0.0114 - val_loss: 0.1354\n"
          ],
          "name": "stdout"
        },
        {
          "output_type": "execute_result",
          "data": {
            "text/plain": [
              "<tensorflow.python.keras.callbacks.History at 0x7f072a12c510>"
            ]
          },
          "metadata": {
            "tags": []
          },
          "execution_count": 0
        }
      ]
    },
    {
      "cell_type": "code",
      "metadata": {
        "colab": {
          "background_save": true
        },
        "id": "Wl8wR4a2IXq_",
        "outputId": "1f42bb74-710a-4166-cc1d-e03449141945"
      },
      "source": [
        "model_loss = pd.DataFrame(model.history.history)\r\n",
        "model_loss.plot()"
      ],
      "execution_count": null,
      "outputs": [
        {
          "output_type": "execute_result",
          "data": {
            "text/plain": [
              "<matplotlib.axes._subplots.AxesSubplot at 0x7f07298b19d0>"
            ]
          },
          "metadata": {
            "tags": []
          },
          "execution_count": 0
        },
        {
          "output_type": "display_data",
          "data": {
            "image/png": "[encoded data removed]",
            "text/plain": [
              "<Figure size 432x288 with 1 Axes>"
            ]
          },
          "metadata": {
            "tags": []
          }
        }
      ]
    },
    {
      "cell_type": "code",
      "metadata": {
        "colab": {
          "background_save": true
        },
        "id": "pH865BFkrUU7"
      },
      "source": [
        ""
      ],
      "execution_count": null,
      "outputs": []
    },
    {
      "cell_type": "code",
      "metadata": {
        "colab": {
          "background_save": true
        },
        "id": "8p1hmB1VM_ol"
      },
      "source": [
        "from tensorflow.keras.callbacks import EarlyStopping"
      ],
      "execution_count": null,
      "outputs": []
    },
    {
      "cell_type": "code",
      "metadata": {
        "colab": {
          "background_save": true
        },
        "id": "OUyr3hmcMSPX"
      },
      "source": [
        "early_stop = EarlyStopping(monitor='val_loss', mode='min', verbose=1, patience=250)"
      ],
      "execution_count": null,
      "outputs": []
    },
    {
      "cell_type": "code",
      "metadata": {
        "colab": {
          "background_save": true
        },
        "id": "5cFGfAkgNTIP",
        "outputId": "f1b93b46-40b4-4ac5-9ff3-cd45144fd280"
      },
      "source": [
        "df_new.head()"
      ],
      "execution_count": null,
      "outputs": [
        {
          "output_type": "execute_result",
          "data": {
            "text/html": [
              "<div>\n",
              "<style scoped>\n",
              "    .dataframe tbody tr th:only-of-type {\n",
              "        vertical-align: middle;\n",
              "    }\n",
              "\n",
              "    .dataframe tbody tr th {\n",
              "        vertical-align: top;\n",
              "    }\n",
              "\n",
              "    .dataframe thead th {\n",
              "        text-align: right;\n",
              "    }\n",
              "</style>\n",
              "<table border=\"1\" class=\"dataframe\">\n",
              "  <thead>\n",
              "    <tr style=\"text-align: right;\">\n",
              "      <th></th>\n",
              "      <th>gender</th>\n",
              "      <th>age</th>\n",
              "      <th>hypertension</th>\n",
              "      <th>heart_disease</th>\n",
              "      <th>ever_married</th>\n",
              "      <th>Residence_type</th>\n",
              "      <th>avg_glucose_level</th>\n",
              "      <th>bmi</th>\n",
              "      <th>Govt_job</th>\n",
              "      <th>Never_worked</th>\n",
              "      <th>Private</th>\n",
              "      <th>Self-employed</th>\n",
              "      <th>children</th>\n",
              "      <th>formerly smoked</th>\n",
              "      <th>never smoked</th>\n",
              "      <th>smokes</th>\n",
              "      <th>stroke</th>\n",
              "    </tr>\n",
              "  </thead>\n",
              "  <tbody>\n",
              "    <tr>\n",
              "      <th>0</th>\n",
              "      <td>1.0</td>\n",
              "      <td>58.0</td>\n",
              "      <td>1.0</td>\n",
              "      <td>0.0</td>\n",
              "      <td>1.0</td>\n",
              "      <td>1.0</td>\n",
              "      <td>87.96</td>\n",
              "      <td>39.2</td>\n",
              "      <td>0.0</td>\n",
              "      <td>0.0</td>\n",
              "      <td>1.0</td>\n",
              "      <td>0.0</td>\n",
              "      <td>0.0</td>\n",
              "      <td>0.0</td>\n",
              "      <td>1.0</td>\n",
              "      <td>0.0</td>\n",
              "      <td>0</td>\n",
              "    </tr>\n",
              "    <tr>\n",
              "      <th>1</th>\n",
              "      <td>0.0</td>\n",
              "      <td>70.0</td>\n",
              "      <td>0.0</td>\n",
              "      <td>0.0</td>\n",
              "      <td>1.0</td>\n",
              "      <td>0.0</td>\n",
              "      <td>69.04</td>\n",
              "      <td>35.9</td>\n",
              "      <td>0.0</td>\n",
              "      <td>0.0</td>\n",
              "      <td>1.0</td>\n",
              "      <td>0.0</td>\n",
              "      <td>0.0</td>\n",
              "      <td>1.0</td>\n",
              "      <td>0.0</td>\n",
              "      <td>0.0</td>\n",
              "      <td>0</td>\n",
              "    </tr>\n",
              "    <tr>\n",
              "      <th>2</th>\n",
              "      <td>0.0</td>\n",
              "      <td>52.0</td>\n",
              "      <td>0.0</td>\n",
              "      <td>0.0</td>\n",
              "      <td>1.0</td>\n",
              "      <td>1.0</td>\n",
              "      <td>77.59</td>\n",
              "      <td>17.7</td>\n",
              "      <td>0.0</td>\n",
              "      <td>0.0</td>\n",
              "      <td>1.0</td>\n",
              "      <td>0.0</td>\n",
              "      <td>0.0</td>\n",
              "      <td>1.0</td>\n",
              "      <td>0.0</td>\n",
              "      <td>0.0</td>\n",
              "      <td>0</td>\n",
              "    </tr>\n",
              "    <tr>\n",
              "      <th>3</th>\n",
              "      <td>0.0</td>\n",
              "      <td>75.0</td>\n",
              "      <td>0.0</td>\n",
              "      <td>1.0</td>\n",
              "      <td>1.0</td>\n",
              "      <td>0.0</td>\n",
              "      <td>243.53</td>\n",
              "      <td>27.0</td>\n",
              "      <td>0.0</td>\n",
              "      <td>0.0</td>\n",
              "      <td>0.0</td>\n",
              "      <td>1.0</td>\n",
              "      <td>0.0</td>\n",
              "      <td>0.0</td>\n",
              "      <td>1.0</td>\n",
              "      <td>0.0</td>\n",
              "      <td>0</td>\n",
              "    </tr>\n",
              "    <tr>\n",
              "      <th>4</th>\n",
              "      <td>0.0</td>\n",
              "      <td>32.0</td>\n",
              "      <td>0.0</td>\n",
              "      <td>0.0</td>\n",
              "      <td>1.0</td>\n",
              "      <td>0.0</td>\n",
              "      <td>77.67</td>\n",
              "      <td>32.3</td>\n",
              "      <td>0.0</td>\n",
              "      <td>0.0</td>\n",
              "      <td>1.0</td>\n",
              "      <td>0.0</td>\n",
              "      <td>0.0</td>\n",
              "      <td>0.0</td>\n",
              "      <td>0.0</td>\n",
              "      <td>1.0</td>\n",
              "      <td>0</td>\n",
              "    </tr>\n",
              "  </tbody>\n",
              "</table>\n",
              "</div>"
            ],
            "text/plain": [
              "   gender   age  hypertension  ...  never smoked  smokes  stroke\n",
              "0     1.0  58.0           1.0  ...           1.0     0.0       0\n",
              "1     0.0  70.0           0.0  ...           0.0     0.0       0\n",
              "2     0.0  52.0           0.0  ...           0.0     0.0       0\n",
              "3     0.0  75.0           0.0  ...           1.0     0.0       0\n",
              "4     0.0  32.0           0.0  ...           0.0     1.0       0\n",
              "\n",
              "[5 rows x 17 columns]"
            ]
          },
          "metadata": {
            "tags": []
          },
          "execution_count": 0
        }
      ]
    },
    {
      "cell_type": "code",
      "metadata": {
        "colab": {
          "background_save": true
        },
        "id": "HlheCdA0rVYq"
      },
      "source": [
        "model = Sequential()\r\n",
        "\r\n",
        "model.add(Dense(units=100,activation='relu'))\r\n",
        "model.add(Dense(units=50,activation='relu'))\r\n",
        "model.add(Dense(units=1,activation='sigmoid'))\r\n",
        "model.compile(loss='binary_crossentropy', optimizer='adam')"
      ],
      "execution_count": null,
      "outputs": []
    },
    {
      "cell_type": "code",
      "metadata": {
        "colab": {
          "background_save": true
        },
        "id": "kGIGrtiSrYWh"
      },
      "source": [
        "early_stop = EarlyStopping(monitor='val_loss', mode='min', verbose=1, patience=25)"
      ],
      "execution_count": null,
      "outputs": []
    },
    {
      "cell_type": "code",
      "metadata": {
        "colab": {
          "background_save": true
        },
        "id": "O5f0OYBQrpxG",
        "outputId": "72879472-7be7-4d63-daf4-cb5af5ebed48"
      },
      "source": [
        "model.fit(x=X_train, \r\n",
        "          y=y_train, \r\n",
        "          epochs=600,\r\n",
        "          validation_data=(X_test, y_test), verbose=1,\r\n",
        "          callbacks=[early_stop]\r\n",
        "          )"
      ],
      "execution_count": null,
      "outputs": [
        {
          "output_type": "stream",
          "text": [
            "Epoch 1/600\n",
            "1335/1335 [==============================] - 4s 2ms/step - loss: 0.3902 - val_loss: 0.2924\n",
            "Epoch 2/600\n",
            "1335/1335 [==============================] - 3s 2ms/step - loss: 0.2133 - val_loss: 0.1667\n",
            "Epoch 3/600\n",
            "1335/1335 [==============================] - 3s 2ms/step - loss: 0.1744 - val_loss: 0.1442\n",
            "Epoch 4/600\n",
            "1335/1335 [==============================] - 3s 2ms/step - loss: 0.1574 - val_loss: 0.1387\n",
            "Epoch 5/600\n",
            "1335/1335 [==============================] - 3s 2ms/step - loss: 0.1418 - val_loss: 0.1560\n",
            "Epoch 6/600\n",
            "1335/1335 [==============================] - 3s 2ms/step - loss: 0.1345 - val_loss: 0.1246\n",
            "Epoch 7/600\n",
            "1335/1335 [==============================] - 3s 2ms/step - loss: 0.1297 - val_loss: 0.1122\n",
            "Epoch 8/600\n",
            "1335/1335 [==============================] - 3s 2ms/step - loss: 0.1243 - val_loss: 0.1136\n",
            "Epoch 9/600\n",
            "1335/1335 [==============================] - 3s 2ms/step - loss: 0.1188 - val_loss: 0.1195\n",
            "Epoch 10/600\n",
            "1335/1335 [==============================] - 3s 2ms/step - loss: 0.1124 - val_loss: 0.1119\n",
            "Epoch 11/600\n",
            "1335/1335 [==============================] - 3s 2ms/step - loss: 0.1137 - val_loss: 0.1361\n",
            "Epoch 12/600\n",
            "1335/1335 [==============================] - 3s 2ms/step - loss: 0.1068 - val_loss: 0.1058\n",
            "Epoch 13/600\n",
            "1335/1335 [==============================] - 3s 2ms/step - loss: 0.1064 - val_loss: 0.0956\n",
            "Epoch 14/600\n",
            "1335/1335 [==============================] - 3s 2ms/step - loss: 0.1018 - val_loss: 0.1379\n",
            "Epoch 15/600\n",
            "1335/1335 [==============================] - 3s 3ms/step - loss: 0.1019 - val_loss: 0.0927\n",
            "Epoch 16/600\n",
            "1335/1335 [==============================] - 4s 3ms/step - loss: 0.0945 - val_loss: 0.0852\n",
            "Epoch 17/600\n",
            "1335/1335 [==============================] - 4s 3ms/step - loss: 0.1005 - val_loss: 0.1065\n",
            "Epoch 18/600\n",
            "1335/1335 [==============================] - 4s 3ms/step - loss: 0.0942 - val_loss: 0.0922\n",
            "Epoch 19/600\n",
            "1335/1335 [==============================] - 3s 2ms/step - loss: 0.0937 - val_loss: 0.0888\n",
            "Epoch 20/600\n",
            "1335/1335 [==============================] - 3s 2ms/step - loss: 0.0922 - val_loss: 0.1016\n",
            "Epoch 21/600\n",
            "1335/1335 [==============================] - 3s 2ms/step - loss: 0.0912 - val_loss: 0.0907\n",
            "Epoch 22/600\n",
            "1335/1335 [==============================] - 3s 2ms/step - loss: 0.0854 - val_loss: 0.0948\n",
            "Epoch 23/600\n",
            "1335/1335 [==============================] - 3s 2ms/step - loss: 0.0821 - val_loss: 0.0813\n",
            "Epoch 24/600\n",
            "1335/1335 [==============================] - 4s 3ms/step - loss: 0.0861 - val_loss: 0.0817\n",
            "Epoch 25/600\n",
            "1335/1335 [==============================] - 4s 3ms/step - loss: 0.0825 - val_loss: 0.0811\n",
            "Epoch 26/600\n",
            "1335/1335 [==============================] - 4s 3ms/step - loss: 0.0821 - val_loss: 0.0849\n",
            "Epoch 27/600\n",
            "1335/1335 [==============================] - 3s 2ms/step - loss: 0.0829 - val_loss: 0.0769\n",
            "Epoch 28/600\n",
            "1335/1335 [==============================] - 4s 3ms/step - loss: 0.0771 - val_loss: 0.0769\n",
            "Epoch 29/600\n",
            "1335/1335 [==============================] - 4s 3ms/step - loss: 0.0782 - val_loss: 0.0816\n",
            "Epoch 30/600\n",
            "1335/1335 [==============================] - 4s 3ms/step - loss: 0.0794 - val_loss: 0.0822\n",
            "Epoch 31/600\n",
            "1335/1335 [==============================] - 3s 2ms/step - loss: 0.0766 - val_loss: 0.0876\n",
            "Epoch 32/600\n",
            "1335/1335 [==============================] - 3s 2ms/step - loss: 0.0750 - val_loss: 0.0749\n",
            "Epoch 33/600\n",
            "1335/1335 [==============================] - 3s 2ms/step - loss: 0.0729 - val_loss: 0.0740\n",
            "Epoch 34/600\n",
            "1335/1335 [==============================] - 3s 2ms/step - loss: 0.0707 - val_loss: 0.0730\n",
            "Epoch 35/600\n",
            "1335/1335 [==============================] - 3s 2ms/step - loss: 0.0725 - val_loss: 0.0791\n",
            "Epoch 36/600\n",
            "1335/1335 [==============================] - 3s 2ms/step - loss: 0.0715 - val_loss: 0.0658\n",
            "Epoch 37/600\n",
            "1335/1335 [==============================] - 3s 2ms/step - loss: 0.0720 - val_loss: 0.0823\n",
            "Epoch 38/600\n",
            "1335/1335 [==============================] - 3s 2ms/step - loss: 0.0702 - val_loss: 0.0678\n",
            "Epoch 39/600\n",
            "1335/1335 [==============================] - 3s 2ms/step - loss: 0.0661 - val_loss: 0.0655\n",
            "Epoch 40/600\n",
            "1335/1335 [==============================] - 3s 2ms/step - loss: 0.0678 - val_loss: 0.0651\n",
            "Epoch 41/600\n",
            "1335/1335 [==============================] - 4s 3ms/step - loss: 0.0686 - val_loss: 0.0647\n",
            "Epoch 42/600\n",
            "1335/1335 [==============================] - 4s 3ms/step - loss: 0.0662 - val_loss: 0.0681\n",
            "Epoch 43/600\n",
            "1335/1335 [==============================] - 3s 2ms/step - loss: 0.0660 - val_loss: 0.0683\n",
            "Epoch 44/600\n",
            "1335/1335 [==============================] - 3s 2ms/step - loss: 0.0652 - val_loss: 0.0649\n",
            "Epoch 45/600\n",
            "1335/1335 [==============================] - 3s 2ms/step - loss: 0.0671 - val_loss: 0.0667\n",
            "Epoch 46/600\n",
            "1335/1335 [==============================] - 3s 2ms/step - loss: 0.0641 - val_loss: 0.0692\n",
            "Epoch 47/600\n",
            "1335/1335 [==============================] - 3s 2ms/step - loss: 0.0623 - val_loss: 0.0756\n",
            "Epoch 48/600\n",
            "1335/1335 [==============================] - 3s 2ms/step - loss: 0.0612 - val_loss: 0.0675\n",
            "Epoch 49/600\n",
            "1335/1335 [==============================] - 3s 2ms/step - loss: 0.0619 - val_loss: 0.0677\n",
            "Epoch 50/600\n",
            "1335/1335 [==============================] - 3s 2ms/step - loss: 0.0605 - val_loss: 0.0666\n",
            "Epoch 51/600\n",
            "1335/1335 [==============================] - 3s 2ms/step - loss: 0.0583 - val_loss: 0.0737\n",
            "Epoch 52/600\n",
            "1335/1335 [==============================] - 3s 2ms/step - loss: 0.0576 - val_loss: 0.0667\n",
            "Epoch 53/600\n",
            "1335/1335 [==============================] - 3s 2ms/step - loss: 0.0589 - val_loss: 0.0822\n",
            "Epoch 54/600\n",
            "1335/1335 [==============================] - 3s 2ms/step - loss: 0.0604 - val_loss: 0.0711\n",
            "Epoch 55/600\n",
            "1335/1335 [==============================] - 3s 2ms/step - loss: 0.0572 - val_loss: 0.0653\n",
            "Epoch 56/600\n",
            "1335/1335 [==============================] - 3s 2ms/step - loss: 0.0566 - val_loss: 0.1018\n",
            "Epoch 57/600\n",
            "1335/1335 [==============================] - 3s 2ms/step - loss: 0.0581 - val_loss: 0.0783\n",
            "Epoch 58/600\n",
            "1335/1335 [==============================] - 3s 2ms/step - loss: 0.0586 - val_loss: 0.0734\n",
            "Epoch 59/600\n",
            "1335/1335 [==============================] - 3s 2ms/step - loss: 0.0568 - val_loss: 0.0763\n",
            "Epoch 60/600\n",
            "1335/1335 [==============================] - 3s 2ms/step - loss: 0.0543 - val_loss: 0.0739\n",
            "Epoch 61/600\n",
            "1335/1335 [==============================] - 3s 2ms/step - loss: 0.0574 - val_loss: 0.0645\n",
            "Epoch 62/600\n",
            "1335/1335 [==============================] - 3s 2ms/step - loss: 0.0532 - val_loss: 0.0694\n",
            "Epoch 63/600\n",
            "1335/1335 [==============================] - 3s 2ms/step - loss: 0.0536 - val_loss: 0.0650\n",
            "Epoch 64/600\n",
            "1335/1335 [==============================] - 3s 2ms/step - loss: 0.0499 - val_loss: 0.0632\n",
            "Epoch 65/600\n",
            "1335/1335 [==============================] - 3s 2ms/step - loss: 0.0508 - val_loss: 0.0668\n",
            "Epoch 66/600\n",
            "1335/1335 [==============================] - 3s 2ms/step - loss: 0.0503 - val_loss: 0.0614\n",
            "Epoch 67/600\n",
            "1335/1335 [==============================] - 3s 2ms/step - loss: 0.0508 - val_loss: 0.0667\n",
            "Epoch 68/600\n",
            "1335/1335 [==============================] - 3s 2ms/step - loss: 0.0500 - val_loss: 0.0692\n",
            "Epoch 69/600\n",
            "1335/1335 [==============================] - 3s 2ms/step - loss: 0.0502 - val_loss: 0.0886\n",
            "Epoch 70/600\n",
            "1335/1335 [==============================] - 3s 2ms/step - loss: 0.0544 - val_loss: 0.0742\n",
            "Epoch 71/600\n",
            "1335/1335 [==============================] - 3s 2ms/step - loss: 0.0490 - val_loss: 0.0714\n",
            "Epoch 72/600\n",
            "1335/1335 [==============================] - 3s 2ms/step - loss: 0.0522 - val_loss: 0.0636\n",
            "Epoch 73/600\n",
            "1335/1335 [==============================] - 3s 2ms/step - loss: 0.0507 - val_loss: 0.0659\n",
            "Epoch 74/600\n",
            "1335/1335 [==============================] - 3s 2ms/step - loss: 0.0470 - val_loss: 0.0685\n",
            "Epoch 75/600\n",
            "1335/1335 [==============================] - 3s 2ms/step - loss: 0.0521 - val_loss: 0.0672\n",
            "Epoch 76/600\n",
            "1335/1335 [==============================] - 3s 2ms/step - loss: 0.0496 - val_loss: 0.0637\n",
            "Epoch 77/600\n",
            "1335/1335 [==============================] - 3s 2ms/step - loss: 0.0471 - val_loss: 0.0660\n",
            "Epoch 78/600\n",
            "1335/1335 [==============================] - 3s 2ms/step - loss: 0.0457 - val_loss: 0.0686\n",
            "Epoch 79/600\n",
            "1335/1335 [==============================] - 3s 2ms/step - loss: 0.0465 - val_loss: 0.0732\n",
            "Epoch 80/600\n",
            "1335/1335 [==============================] - 3s 2ms/step - loss: 0.0458 - val_loss: 0.0620\n",
            "Epoch 81/600\n",
            "1335/1335 [==============================] - 3s 2ms/step - loss: 0.0456 - val_loss: 0.0700\n",
            "Epoch 82/600\n",
            "1335/1335 [==============================] - 3s 2ms/step - loss: 0.0451 - val_loss: 0.0667\n",
            "Epoch 83/600\n",
            "1335/1335 [==============================] - 3s 2ms/step - loss: 0.0440 - val_loss: 0.0723\n",
            "Epoch 84/600\n",
            "1335/1335 [==============================] - 3s 2ms/step - loss: 0.0461 - val_loss: 0.0657\n",
            "Epoch 85/600\n",
            "1335/1335 [==============================] - 3s 2ms/step - loss: 0.0433 - val_loss: 0.1017\n",
            "Epoch 86/600\n",
            "1335/1335 [==============================] - 3s 2ms/step - loss: 0.0407 - val_loss: 0.0633\n",
            "Epoch 87/600\n",
            "1335/1335 [==============================] - 3s 2ms/step - loss: 0.0424 - val_loss: 0.0702\n",
            "Epoch 88/600\n",
            "1335/1335 [==============================] - 3s 2ms/step - loss: 0.0416 - val_loss: 0.0647\n",
            "Epoch 89/600\n",
            "1335/1335 [==============================] - 2s 2ms/step - loss: 0.0400 - val_loss: 0.0660\n",
            "Epoch 90/600\n",
            "1335/1335 [==============================] - 2s 2ms/step - loss: 0.0428 - val_loss: 0.0659\n",
            "Epoch 91/600\n",
            "1335/1335 [==============================] - 3s 2ms/step - loss: 0.0403 - val_loss: 0.0663\n",
            "Epoch 00091: early stopping\n"
          ],
          "name": "stdout"
        },
        {
          "output_type": "execute_result",
          "data": {
            "text/plain": [
              "<tensorflow.python.keras.callbacks.History at 0x7f072675e450>"
            ]
          },
          "metadata": {
            "tags": []
          },
          "execution_count": 0
        }
      ]
    },
    {
      "cell_type": "code",
      "metadata": {
        "colab": {
          "background_save": true
        },
        "id": "doaYJpfqrsEy",
        "outputId": "0c5894c8-344f-47c8-9f36-d50648841e8c"
      },
      "source": [
        "model_loss = pd.DataFrame(model.history.history)\r\n",
        "model_loss.plot()"
      ],
      "execution_count": null,
      "outputs": [
        {
          "output_type": "execute_result",
          "data": {
            "text/plain": [
              "<matplotlib.axes._subplots.AxesSubplot at 0x7f0726586110>"
            ]
          },
          "metadata": {
            "tags": []
          },
          "execution_count": 0
        },
        {
          "output_type": "display_data",
          "data": {
            "image/png": "[encoded data removed]",
            "text/plain": [
              "<Figure size 432x288 with 1 Axes>"
            ]
          },
          "metadata": {
            "tags": []
          }
        }
      ]
    },
    {
      "cell_type": "code",
      "metadata": {
        "colab": {
          "background_save": true
        },
        "id": "w8gaPf5ztKHL",
        "outputId": "0307ad3c-e240-46b5-f104-1db90ce463d4"
      },
      "source": [
        "predictions = model.predict_classes(X_test)"
      ],
      "execution_count": null,
      "outputs": [
        {
          "output_type": "stream",
          "text": [
            "/usr/local/lib/python3.7/dist-packages/tensorflow/python/keras/engine/sequential.py:450: UserWarning: `model.predict_classes()` is deprecated and will be removed after 2021-01-01. Please use instead:* `np.argmax(model.predict(x), axis=-1)`,   if your model does multi-class classification   (e.g. if it uses a `softmax` last-layer activation).* `(model.predict(x) > 0.5).astype(\"int32\")`,   if your model does binary classification   (e.g. if it uses a `sigmoid` last-layer activation).\n",
            "  warnings.warn('`model.predict_classes()` is deprecated and '\n"
          ],
          "name": "stderr"
        }
      ]
    },
    {
      "cell_type": "code",
      "metadata": {
        "colab": {
          "background_save": true
        },
        "id": "Mm5w0WGXt97f"
      },
      "source": [
        "from sklearn.metrics import classification_report,confusion_matrix"
      ],
      "execution_count": null,
      "outputs": []
    },
    {
      "cell_type": "code",
      "metadata": {
        "colab": {
          "background_save": true
        },
        "id": "lSuIE8qOt_ql",
        "outputId": "4ac54c22-d017-4aeb-8962-44969402828d"
      },
      "source": [
        "print(classification_report(y_test,predictions))"
      ],
      "execution_count": null,
      "outputs": [
        {
          "output_type": "stream",
          "text": [
            "              precision    recall  f1-score   support\n",
            "\n",
            "           0       0.97      0.99      0.98      7142\n",
            "           1       0.99      0.97      0.98      7092\n",
            "\n",
            "    accuracy                           0.98     14234\n",
            "   macro avg       0.98      0.98      0.98     14234\n",
            "weighted avg       0.98      0.98      0.98     14234\n",
            "\n"
          ],
          "name": "stdout"
        }
      ]
    },
    {
      "cell_type": "code",
      "metadata": {
        "colab": {
          "background_save": true
        },
        "id": "CwUl-JLpuBo6",
        "outputId": "7a50701e-2025-46f4-feab-3250d77dc791"
      },
      "source": [
        "print(confusion_matrix(y_test,predictions))"
      ],
      "execution_count": null,
      "outputs": [
        {
          "output_type": "stream",
          "text": [
            "[[7054   88]\n",
            " [ 201 6891]]\n"
          ],
          "name": "stdout"
        }
      ]
    },
    {
      "cell_type": "code",
      "metadata": {
        "colab": {
          "background_save": true
        },
        "id": "mdBvKiDguDes"
      },
      "source": [
        ""
      ],
      "execution_count": null,
      "outputs": []
    }
  ]
}